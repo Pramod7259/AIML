{
 "cells": [
  {
   "cell_type": "code",
   "execution_count": 1,
   "id": "cd61dd0d-5f80-4595-8a3d-30a5bef068a1",
   "metadata": {},
   "outputs": [
    {
     "name": "stdout",
     "output_type": "stream",
     "text": [
      "Requirement already satisfied: ipython in c:\\users\\pramoda a s\\appdata\\local\\programs\\python\\python313\\lib\\site-packages (9.4.0)\n",
      "Requirement already satisfied: colorama in c:\\users\\pramoda a s\\appdata\\local\\programs\\python\\python313\\lib\\site-packages (from ipython) (0.4.6)\n",
      "Requirement already satisfied: decorator in c:\\users\\pramoda a s\\appdata\\local\\programs\\python\\python313\\lib\\site-packages (from ipython) (5.2.1)\n",
      "Requirement already satisfied: ipython-pygments-lexers in c:\\users\\pramoda a s\\appdata\\local\\programs\\python\\python313\\lib\\site-packages (from ipython) (1.1.1)\n",
      "Requirement already satisfied: jedi>=0.16 in c:\\users\\pramoda a s\\appdata\\local\\programs\\python\\python313\\lib\\site-packages (from ipython) (0.19.2)\n",
      "Requirement already satisfied: matplotlib-inline in c:\\users\\pramoda a s\\appdata\\local\\programs\\python\\python313\\lib\\site-packages (from ipython) (0.1.7)\n",
      "Requirement already satisfied: prompt_toolkit<3.1.0,>=3.0.41 in c:\\users\\pramoda a s\\appdata\\local\\programs\\python\\python313\\lib\\site-packages (from ipython) (3.0.51)\n",
      "Requirement already satisfied: pygments>=2.4.0 in c:\\users\\pramoda a s\\appdata\\local\\programs\\python\\python313\\lib\\site-packages (from ipython) (2.19.2)\n",
      "Requirement already satisfied: stack_data in c:\\users\\pramoda a s\\appdata\\local\\programs\\python\\python313\\lib\\site-packages (from ipython) (0.6.3)\n",
      "Requirement already satisfied: traitlets>=5.13.0 in c:\\users\\pramoda a s\\appdata\\local\\programs\\python\\python313\\lib\\site-packages (from ipython) (5.14.3)\n",
      "Requirement already satisfied: wcwidth in c:\\users\\pramoda a s\\appdata\\local\\programs\\python\\python313\\lib\\site-packages (from prompt_toolkit<3.1.0,>=3.0.41->ipython) (0.2.13)\n",
      "Requirement already satisfied: parso<0.9.0,>=0.8.4 in c:\\users\\pramoda a s\\appdata\\local\\programs\\python\\python313\\lib\\site-packages (from jedi>=0.16->ipython) (0.8.4)\n",
      "Requirement already satisfied: executing>=1.2.0 in c:\\users\\pramoda a s\\appdata\\local\\programs\\python\\python313\\lib\\site-packages (from stack_data->ipython) (2.2.0)\n",
      "Requirement already satisfied: asttokens>=2.1.0 in c:\\users\\pramoda a s\\appdata\\local\\programs\\python\\python313\\lib\\site-packages (from stack_data->ipython) (3.0.0)\n",
      "Requirement already satisfied: pure-eval in c:\\users\\pramoda a s\\appdata\\local\\programs\\python\\python313\\lib\\site-packages (from stack_data->ipython) (0.2.3)\n"
     ]
    }
   ],
   "source": [
    "!pip install ipython\n"
   ]
  },
  {
   "cell_type": "code",
   "execution_count": null,
   "id": "9311dce7-e95a-4215-a584-0fa998928999",
   "metadata": {},
   "outputs": [],
   "source": []
  },
  {
   "cell_type": "code",
   "execution_count": 3,
   "id": "88cbf067-c1ff-4a42-9d53-e10d67ba068c",
   "metadata": {},
   "outputs": [],
   "source": [
    "from IPython.display import display, HTML\n"
   ]
  },
  {
   "cell_type": "code",
   "execution_count": 4,
   "id": "34ff85e5-8ccd-4db7-b3fa-7e6f967c79b9",
   "metadata": {},
   "outputs": [
    {
     "data": {
      "text/html": [
       "<h2 style='color:green;'>📱 Phone Price Predictor UI</h2>"
      ],
      "text/plain": [
       "<IPython.core.display.HTML object>"
      ]
     },
     "metadata": {},
     "output_type": "display_data"
    }
   ],
   "source": [
    "from IPython.display import display, HTML\n",
    "\n",
    "display(HTML(\"<h2 style='color:green;'>📱 Phone Price Predictor UI</h2>\"))\n"
   ]
  },
  {
   "cell_type": "code",
   "execution_count": null,
   "id": "0fb95568-e74c-4bc3-997f-3d48a7eef6a1",
   "metadata": {},
   "outputs": [],
   "source": []
  },
  {
   "cell_type": "code",
   "execution_count": null,
   "id": "ff6cfabe-ea68-46d0-9c24-5c7cb21e6270",
   "metadata": {},
   "outputs": [],
   "source": []
  }
 ],
 "metadata": {
  "kernelspec": {
   "display_name": "Python 3 (ipykernel)",
   "language": "python",
   "name": "python3"
  },
  "language_info": {
   "codemirror_mode": {
    "name": "ipython",
    "version": 3
   },
   "file_extension": ".py",
   "mimetype": "text/x-python",
   "name": "python",
   "nbconvert_exporter": "python",
   "pygments_lexer": "ipython3",
   "version": "3.13.6"
  }
 },
 "nbformat": 4,
 "nbformat_minor": 5
}
