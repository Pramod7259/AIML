{
 "cells": [
  {
   "cell_type": "markdown",
   "id": "ea4da303-af24-4b15-bd24-00da3af4f0b4",
   "metadata": {},
   "source": [
    "# Write a NLP Program to demostrate following tasks"
   ]
  },
  {
   "cell_type": "markdown",
   "id": "7269e48a-6bbd-435c-9d67-98d07becc7d8",
   "metadata": {},
   "source": [
    "## a. Tokenization removal of stop words, punchuation, POS & NER Tags¶\n",
    "## b. Bag of Words, TF-IDF Vectorisation & Ngrams"
   ]
  },
  {
   "cell_type": "markdown",
   "id": "bdfa0657-97b9-43a1-be07-63e8b0e55d0e",
   "metadata": {},
   "source": [
    "## import libraries"
   ]
  },
  {
   "cell_type": "code",
   "execution_count": 4,
   "id": "39841843-7f55-4da8-9cdb-711adeff81a3",
   "metadata": {},
   "outputs": [],
   "source": [
    "import nltk, spacy\n",
    "from nltk.corpus import stopwords\n",
    "from nltk import word_tokenize, pos_tag, ngrams"
   ]
  },
  {
   "cell_type": "markdown",
   "id": "128a31a8-3d8f-4707-ba58-5a113275fbd1",
   "metadata": {},
   "source": [
    "## Load spaCy model"
   ]
  },
  {
   "cell_type": "code",
   "execution_count": 5,
   "id": "54b52baf-7ac2-45c1-9338-d1061275a8ba",
   "metadata": {},
   "outputs": [],
   "source": [
    "# Load spaCy model\n",
    "nlp = spacy.load(\"en_core_web_sm\")"
   ]
  },
  {
   "cell_type": "markdown",
   "id": "4e38c477-9934-4243-b059-6754787bab12",
   "metadata": {},
   "source": [
    "## Sample Text"
   ]
  },
  {
   "cell_type": "code",
   "execution_count": 6,
   "id": "7d4bba49-0599-46c8-ae4c-d66e0236cb99",
   "metadata": {},
   "outputs": [],
   "source": [
    "text = \"Apple is looking at buying U.K. startup for $1 billion in 2025.\""
   ]
  },
  {
   "cell_type": "markdown",
   "id": "9aef4ed4-845f-4e0d-9598-eb9ba3568581",
   "metadata": {},
   "source": [
    "## Tokenization"
   ]
  },
  {
   "cell_type": "code",
   "execution_count": 7,
   "id": "e68ea6e3-c51e-4bc3-9213-5a05cb7651d9",
   "metadata": {},
   "outputs": [
    {
     "name": "stdout",
     "output_type": "stream",
     "text": [
      "Tokens: ['Apple', 'is', 'looking', 'at', 'buying', 'U.K.', 'startup', 'for', '$', '1', 'billion', 'in', '2025', '.']\n"
     ]
    }
   ],
   "source": [
    "# Tokenization\n",
    "tokens = word_tokenize(text)\n",
    "print(\"Tokens:\", tokens)"
   ]
  },
  {
   "cell_type": "markdown",
   "id": "4f4dc233-42ed-4688-947a-4d36c60a6631",
   "metadata": {},
   "source": [
    "## Stopword and Puncutaions Removal"
   ]
  },
  {
   "cell_type": "code",
   "execution_count": 8,
   "id": "e3f0909a-8b9c-4b8f-bf73-704602aac1f5",
   "metadata": {},
   "outputs": [
    {
     "name": "stdout",
     "output_type": "stream",
     "text": [
      "After Stopword Removal: ['Apple', 'looking', 'buying', 'startup', 'billion']\n"
     ]
    }
   ],
   "source": [
    "# Stopword Removal\n",
    "filtered = [w for w in tokens if w.isalpha() and w.lower() not in stopwords.words(\"english\")]\n",
    "print(\"After Stopword Removal:\", filtered)"
   ]
  },
  {
   "cell_type": "markdown",
   "id": "09174b60-38af-48d1-a1ca-f5b5bddec506",
   "metadata": {},
   "source": [
    "## POS Tagging"
   ]
  },
  {
   "cell_type": "code",
   "execution_count": 15,
   "id": "e158f4ef-cab5-447d-9f07-56dffa2a2207",
   "metadata": {},
   "outputs": [
    {
     "name": "stdout",
     "output_type": "stream",
     "text": [
      "POS Tags: [('Apple', 'NNP'), ('looking', 'VBG'), ('buying', 'VBG'), ('startup', 'NN'), ('billion', 'CD')]\n"
     ]
    }
   ],
   "source": [
    "# POS Tagging\n",
    "print(\"POS Tags:\",pos_tag(filtered))\n",
    "\n",
    "# NNP → Proper noun (singular)\n",
    "# VBG → Verb (gerund/present participle)\n",
    "# NN → Common noun (singular)\n",
    "# CD → Cardinal number"
   ]
  },
  {
   "cell_type": "markdown",
   "id": "dcf7af12-d385-4fa2-94a0-fbf3cd29a257",
   "metadata": {},
   "source": [
    "## Named Entity Recognition"
   ]
  },
  {
   "cell_type": "code",
   "execution_count": 10,
   "id": "dc704aef-64eb-44da-9a54-ef960b732511",
   "metadata": {},
   "outputs": [
    {
     "name": "stdout",
     "output_type": "stream",
     "text": [
      "NER: [('Apple', 'ORG'), ('U.K.', 'GPE'), ('$1 billion', 'MONEY'), ('2025', 'DATE')]\n"
     ]
    }
   ],
   "source": [
    "# Named Entity Recognition\n",
    "doc = nlp(text)\n",
    "print(\"NER:\", [(ent.text, ent.label_) for ent in doc.ents])"
   ]
  },
  {
   "cell_type": "markdown",
   "id": "30cc4b8a-9f35-4aec-b5f2-b6d90433a371",
   "metadata": {},
   "source": [
    "## N-grams"
   ]
  },
  {
   "cell_type": "code",
   "execution_count": 14,
   "id": "4368ff40-cd2f-47d1-8377-a5a926b47edf",
   "metadata": {},
   "outputs": [
    {
     "name": "stdout",
     "output_type": "stream",
     "text": [
      "Unigram : [('Apple',), ('looking',), ('buying',), ('startup',), ('billion',)]\n",
      "\n",
      "Bigrams: [('Apple', 'looking'), ('looking', 'buying'), ('buying', 'startup'), ('startup', 'billion')]\n",
      "\n",
      "Trigrams: [('Apple', 'looking', 'buying'), ('looking', 'buying', 'startup'), ('buying', 'startup', 'billion')]\n"
     ]
    }
   ],
   "source": [
    "# N-grams\n",
    "print(\"Unigram :\",list(ngrams(filtered,1)))\n",
    "print(\"\\nBigrams:\", list(ngrams(filtered, 2)))\n",
    "print(\"\\nTrigrams:\", list(ngrams(filtered, 3)))"
   ]
  },
  {
   "cell_type": "code",
   "execution_count": null,
   "id": "2d091184-5e0c-48c6-99f2-0a3ec66cdc43",
   "metadata": {},
   "outputs": [],
   "source": []
  },
  {
   "cell_type": "code",
   "execution_count": null,
   "id": "74d4e5fb-835e-4f1a-8e25-78fa8d01c50c",
   "metadata": {},
   "outputs": [],
   "source": []
  }
 ],
 "metadata": {
  "kernelspec": {
   "display_name": "Python 3 (ipykernel)",
   "language": "python",
   "name": "python3"
  },
  "language_info": {
   "codemirror_mode": {
    "name": "ipython",
    "version": 3
   },
   "file_extension": ".py",
   "mimetype": "text/x-python",
   "name": "python",
   "nbconvert_exporter": "python",
   "pygments_lexer": "ipython3",
   "version": "3.13.7"
  }
 },
 "nbformat": 4,
 "nbformat_minor": 5
}
