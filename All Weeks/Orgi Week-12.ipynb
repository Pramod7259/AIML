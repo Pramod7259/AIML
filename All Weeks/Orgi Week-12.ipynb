{
 "cells": [
  {
   "cell_type": "code",
   "execution_count": 61,
   "id": "6c211a07-6fb9-4ac1-9ad4-75a2340feaac",
   "metadata": {},
   "outputs": [],
   "source": [
    "import re\n",
    "import nltk,spacy\n",
    "from nltk.corpus import stopwords\n",
    "from nltk.tokenize import word_tokenize\n",
    "from nltk.util import ngrams\n",
    "from sklearn.feature_extraction.text import CountVectorizer,TfidfVectorizer"
   ]
  },
  {
   "cell_type": "raw",
   "id": "eb68c739-4e09-401a-8156-eec8c56928d3",
   "metadata": {},
   "source": [
    "nltk.download('punkt')\n",
    "nltk.download('stopwords')\n",
    "nltk.download('averaged_perceptron_tagger')\n",
    "nltk.download('words')"
   ]
  },
  {
   "cell_type": "code",
   "execution_count": 64,
   "id": "8eb54972-5238-40f1-96c0-9371ec07f52b",
   "metadata": {},
   "outputs": [],
   "source": [
    "text=\"\"\"Apple is looking ,buying U K . startup for 1$ billon.\n",
    "      Artificial Intelligence is the feture techonology\"\"\""
   ]
  },
  {
   "cell_type": "code",
   "execution_count": 65,
   "id": "67e9ab38-60f1-4093-a9e0-a20413649e2b",
   "metadata": {},
   "outputs": [
    {
     "name": "stdout",
     "output_type": "stream",
     "text": [
      "--------Tokenization--------\n",
      "['Apple', 'is', 'looking', ',', 'buying', 'U', 'K', '.', 'startup', 'for', '1', '$', 'billon', '.', 'Artificial', 'Intelligence', 'is', 'the', 'feture', 'techonology']\n"
     ]
    }
   ],
   "source": [
    "# Tokenization \n",
    "\n",
    "tokens=word_tokenize(text)\n",
    "print(\"--------Tokenization--------\")\n",
    "print(tokens)"
   ]
  },
  {
   "cell_type": "code",
   "execution_count": 66,
   "id": "4bc14b31-7855-4e71-8cd6-70e9b5d712f0",
   "metadata": {},
   "outputs": [
    {
     "name": "stdout",
     "output_type": "stream",
     "text": [
      "-------Removel Stop Words and Punctuations--------\n",
      "\n",
      " ['Apple', 'buying', 'startup', 'billon', 'Artificial', 'Intelligence', 'feture', 'techonology']\n"
     ]
    }
   ],
   "source": [
    "# Stop Words and Punctuations \n",
    "\n",
    "filtered=[w for w in tokens if w.isalpha() \n",
    "          and w.lower() not in stopwords.words()]\n",
    "print(\"-------Removel Stop Words and Punctuations--------\")\n",
    "print(\"\\n\",filtered)"
   ]
  },
  {
   "cell_type": "code",
   "execution_count": 67,
   "id": "ef66f732-f17e-475e-8f17-a7858c72069d",
   "metadata": {},
   "outputs": [],
   "source": [
    "# POS Tagging \n",
    "\n",
    "nlp=spacy.load('en_core_web_sm')\n",
    "doc=nlp(text)"
   ]
  },
  {
   "cell_type": "code",
   "execution_count": 68,
   "id": "8ffd037c-5ee4-4e0e-aee1-9e09483713b1",
   "metadata": {},
   "outputs": [
    {
     "name": "stdout",
     "output_type": "stream",
     "text": [
      "--------POS Tagging-------\n",
      "\n",
      "Apple       --> PROPN\n",
      "is          --> AUX\n",
      "looking     --> VERB\n",
      ",           --> PUNCT\n",
      "buying      --> VERB\n",
      "U           --> NOUN\n",
      "K           --> NOUN\n",
      ".           --> PUNCT\n",
      "startup     --> VERB\n",
      "for         --> ADP\n",
      "1           --> NUM\n",
      "$           --> SYM\n",
      "billon      --> NOUN\n",
      ".           --> PUNCT\n",
      "\n",
      "           --> SPACE\n",
      "Artificial  --> PROPN\n",
      "Intelligence--> PROPN\n",
      "is          --> AUX\n",
      "the         --> DET\n",
      "feture      --> NOUN\n",
      "techonology --> NOUN\n"
     ]
    }
   ],
   "source": [
    "print(\"--------POS Tagging-------\\n\")\n",
    "for token in doc:\n",
    "    print(f\"{token.text:12}--> {token.pos_}\")"
   ]
  },
  {
   "cell_type": "code",
   "execution_count": 69,
   "id": "6f9dc194-6f53-457f-a8cc-3ace5396ab23",
   "metadata": {},
   "outputs": [
    {
     "name": "stdout",
     "output_type": "stream",
     "text": [
      "----Name Entity Recognition-----\n",
      "\n",
      "Apple        --> ORG\n",
      "U K          --> ORG\n",
      "1$           --> MONEY\n",
      "Artificial Intelligence --> ORG\n"
     ]
    }
   ],
   "source": [
    "# Name Entity Recognition \n",
    "\n",
    "print(\"----Name Entity Recognition-----\\n\")\n",
    "for ent in doc.ents:\n",
    "    print(f\"{ent.text:<12} --> {ent.label_}\")"
   ]
  },
  {
   "cell_type": "code",
   "execution_count": 71,
   "id": "d971c157-df03-4c82-b983-398ee717bfcb",
   "metadata": {},
   "outputs": [
    {
     "name": "stdout",
     "output_type": "stream",
     "text": [
      "['apple' 'artificial' 'billon' 'buying' 'feture' 'for' 'intelligence' 'is'\n",
      " 'looking' 'startup' 'techonology' 'the']\n",
      "[[1 1 1 1 1 1 1 2 1 1 1 1]]\n"
     ]
    }
   ],
   "source": [
    "# Bag of words \n",
    "\n",
    "vect=CountVectorizer()\n",
    "bow=vect.fit_transform([text])\n",
    "print(vect.get_feature_names_out())\n",
    "print(bow.toarray())"
   ]
  },
  {
   "cell_type": "code",
   "execution_count": 72,
   "id": "5377ca28-c990-498c-8c1f-9df25a7bbcd1",
   "metadata": {},
   "outputs": [
    {
     "name": "stdout",
     "output_type": "stream",
     "text": [
      "['apple' 'artificial' 'billon' 'buying' 'feture' 'for' 'intelligence' 'is'\n",
      " 'looking' 'startup' 'techonology' 'the']\n",
      "[[0.25819889 0.25819889 0.25819889 0.25819889 0.25819889 0.25819889\n",
      "  0.25819889 0.51639778 0.25819889 0.25819889 0.25819889 0.25819889]]\n"
     ]
    }
   ],
   "source": [
    "# TF - IDF \n",
    "\n",
    "tf_idf=TfidfVectorizer()\n",
    "tf=tf_idf.fit_transform([text])\n",
    "print(tf_idf.get_feature_names_out())\n",
    "print(tf.toarray())"
   ]
  },
  {
   "cell_type": "code",
   "execution_count": 73,
   "id": "077e0af1-60d2-48b9-9c8a-4bf592748746",
   "metadata": {},
   "outputs": [
    {
     "name": "stdout",
     "output_type": "stream",
     "text": [
      "Unigram is :\n",
      " [('Apple',), ('buying',), ('startup',), ('billon',), ('Artificial',), ('Intelligence',), ('feture',), ('techonology',)]\n",
      "\n",
      "Bigrams is :\n",
      " [('Apple', 'buying'), ('buying', 'startup'), ('startup', 'billon'), ('billon', 'Artificial'), ('Artificial', 'Intelligence'), ('Intelligence', 'feture'), ('feture', 'techonology')]\n",
      "\n",
      "Trigrams is :\n",
      " [('Apple', 'buying', 'startup'), ('buying', 'startup', 'billon'), ('startup', 'billon', 'Artificial'), ('billon', 'Artificial', 'Intelligence'), ('Artificial', 'Intelligence', 'feture'), ('Intelligence', 'feture', 'techonology')]\n"
     ]
    }
   ],
   "source": [
    "# N-grams\n",
    "\n",
    "print(\"Unigram is :\\n\",list(ngrams(filtered,1)))\n",
    "print(\"\\nBigrams is :\\n\",list(ngrams(filtered,2)))\n",
    "print(\"\\nTrigrams is :\\n\",list(ngrams(filtered,3)))"
   ]
  },
  {
   "cell_type": "code",
   "execution_count": null,
   "id": "1deff9d6-d4c4-4d06-9bc9-2b9e6724532e",
   "metadata": {},
   "outputs": [],
   "source": []
  },
  {
   "cell_type": "code",
   "execution_count": null,
   "id": "b44e98c8-b8c1-45cc-9df0-4b4cb4d2f9d2",
   "metadata": {},
   "outputs": [],
   "source": []
  }
 ],
 "metadata": {
  "kernelspec": {
   "display_name": "Python 3 (ipykernel)",
   "language": "python",
   "name": "python3"
  },
  "language_info": {
   "codemirror_mode": {
    "name": "ipython",
    "version": 3
   },
   "file_extension": ".py",
   "mimetype": "text/x-python",
   "name": "python",
   "nbconvert_exporter": "python",
   "pygments_lexer": "ipython3",
   "version": "3.13.7"
  }
 },
 "nbformat": 4,
 "nbformat_minor": 5
}
