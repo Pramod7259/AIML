{
 "cells": [
  {
   "cell_type": "markdown",
   "id": "57bb3787-116b-4f8f-b0bf-150b009858db",
   "metadata": {},
   "source": [
    "# b. Bag of Words, TF-IDF Vectorisation & Ngrams"
   ]
  },
  {
   "cell_type": "markdown",
   "id": "bd445d34-69f9-4923-a81c-3b3a8f6b85e4",
   "metadata": {},
   "source": [
    "## Import Libraries"
   ]
  },
  {
   "cell_type": "code",
   "execution_count": 65,
   "id": "eac244db-b384-49df-b2c7-9478c90f3507",
   "metadata": {},
   "outputs": [],
   "source": [
    "import re \n",
    "import nltk \n",
    "import spacy \n",
    "from nltk.corpus import stopwords\n",
    "from nltk.tokenize import word_tokenize \n",
    "from nltk.util import ngrams\n",
    "from sklearn.feature_extraction.text import CountVectorizer,TfidfVectorizer"
   ]
  },
  {
   "cell_type": "markdown",
   "id": "f0d74768-6f9e-4367-85d6-2dffbcaaa485",
   "metadata": {},
   "source": [
    "## Download required NLTK resources"
   ]
  },
  {
   "cell_type": "code",
   "execution_count": 66,
   "id": "ff1536c6-2155-437d-bf2f-1db592dc96b3",
   "metadata": {},
   "outputs": [
    {
     "name": "stderr",
     "output_type": "stream",
     "text": [
      "[nltk_data] Downloading package punkt to C:\\Users\\Pramoda A\n",
      "[nltk_data]     S\\AppData\\Roaming\\nltk_data...\n",
      "[nltk_data]   Package punkt is already up-to-date!\n",
      "[nltk_data] Downloading package stopwords to C:\\Users\\Pramoda A\n",
      "[nltk_data]     S\\AppData\\Roaming\\nltk_data...\n",
      "[nltk_data]   Package stopwords is already up-to-date!\n",
      "[nltk_data] Downloading package averaged_perceptron_tagger to\n",
      "[nltk_data]     C:\\Users\\Pramoda A S\\AppData\\Roaming\\nltk_data...\n",
      "[nltk_data]   Package averaged_perceptron_tagger is already up-to-\n",
      "[nltk_data]       date!\n",
      "[nltk_data] Downloading package maxent_ne_chunker to C:\\Users\\Pramoda\n",
      "[nltk_data]     A S\\AppData\\Roaming\\nltk_data...\n",
      "[nltk_data]   Package maxent_ne_chunker is already up-to-date!\n",
      "[nltk_data] Downloading package words to C:\\Users\\Pramoda A\n",
      "[nltk_data]     S\\AppData\\Roaming\\nltk_data...\n",
      "[nltk_data]   Package words is already up-to-date!\n"
     ]
    },
    {
     "data": {
      "text/plain": [
       "True"
      ]
     },
     "execution_count": 66,
     "metadata": {},
     "output_type": "execute_result"
    }
   ],
   "source": [
    "nltk.download(\"punkt\")\n",
    "nltk.download(\"stopwords\")\n",
    "nltk.download(\"averaged_perceptron_tagger\")\n",
    "nltk.download(\"maxent_ne_chunker\")\n",
    "nltk.download(\"words\")"
   ]
  },
  {
   "cell_type": "code",
   "execution_count": 67,
   "id": "c9528c1d-39dc-4c3f-8628-305b0e0f9aeb",
   "metadata": {},
   "outputs": [],
   "source": [
    "cap =[\"Apple is best ,good fruit for health\",\n",
    "     \"Artificial inteligence is feature technology\",\n",
    "     \"criket in best game in games\"]"
   ]
  },
  {
   "cell_type": "code",
   "execution_count": 68,
   "id": "dec523f3-db2e-47ec-801e-4bf57f847c23",
   "metadata": {},
   "outputs": [
    {
     "name": "stdout",
     "output_type": "stream",
     "text": [
      "---Tokens----\n",
      "['Apple', 'is', 'best', ',', 'good', 'fruit', 'for', 'health']\n",
      "['Artificial', 'inteligence', 'is', 'feature', 'technology']\n",
      "['criket', 'in', 'best', 'game', 'in', 'games']\n"
     ]
    }
   ],
   "source": [
    "print(\"---Tokens----\")\n",
    "for sentence in cap:\n",
    "    tokens = word_tokenize(sentence)\n",
    "    print(tokens)"
   ]
  },
  {
   "cell_type": "code",
   "execution_count": 69,
   "id": "8dcec808-0677-4fdb-84f7-88b549ce608d",
   "metadata": {},
   "outputs": [
    {
     "name": "stdout",
     "output_type": "stream",
     "text": [
      "After stopwords removel : ['criket', 'best', 'game', 'games']\n"
     ]
    }
   ],
   "source": [
    "filtered=[w for w in tokens if w.isalpha() \n",
    "          and w.lower() not in stopwords.words(\"english\")]\n",
    "print(\"After stopwords removel :\",filtered)"
   ]
  },
  {
   "cell_type": "code",
   "execution_count": 70,
   "id": "fc203400-94eb-40be-bf3c-a0d6050df14f",
   "metadata": {},
   "outputs": [
    {
     "name": "stdout",
     "output_type": "stream",
     "text": [
      "['apple' 'artificial' 'best' 'criket' 'feature' 'for' 'fruit' 'game'\n",
      " 'games' 'good' 'health' 'in' 'inteligence' 'is' 'technology']\n",
      "[[1 0 1 0 0 1 1 0 0 1 1 0 0 1 0]\n",
      " [0 1 0 0 1 0 0 0 0 0 0 0 1 1 1]\n",
      " [0 0 1 1 0 0 0 1 1 0 0 2 0 0 0]]\n"
     ]
    }
   ],
   "source": [
    "vet=CountVectorizer()\n",
    "bow=vet.fit_transform(cap)\n",
    "print(vet.get_feature_names_out())\n",
    "print(bow.toarray())"
   ]
  },
  {
   "cell_type": "markdown",
   "id": "f7074b96-6836-42d4-8540-56b979f2a443",
   "metadata": {},
   "source": [
    "## TF-IDF"
   ]
  },
  {
   "cell_type": "code",
   "execution_count": 71,
   "id": "66774f89-f07b-4392-950b-fafbd5f66058",
   "metadata": {},
   "outputs": [
    {
     "name": "stdout",
     "output_type": "stream",
     "text": [
      "['apple' 'artificial' 'best' 'criket' 'feature' 'for' 'fruit' 'game'\n",
      " 'games' 'good' 'health' 'in' 'inteligence' 'is' 'technology']\n",
      "[[0.40301621 0.         0.30650422 0.         0.         0.40301621\n",
      "  0.40301621 0.         0.         0.40301621 0.40301621 0.\n",
      "  0.         0.30650422 0.        ]\n",
      " [0.         0.46735098 0.         0.         0.46735098 0.\n",
      "  0.         0.         0.         0.         0.         0.\n",
      "  0.46735098 0.35543247 0.46735098]\n",
      " [0.         0.         0.27626457 0.36325471 0.         0.\n",
      "  0.         0.36325471 0.36325471 0.         0.         0.72650942\n",
      "  0.         0.         0.        ]]\n"
     ]
    }
   ],
   "source": [
    "tf_idf=TfidfVectorizer()\n",
    "tfidf=tf_idf.fit_transform(cap)\n",
    "print(tf_idf.get_feature_names_out())\n",
    "print(tfidf.toarray())"
   ]
  },
  {
   "cell_type": "markdown",
   "id": "0d89fbe4-46a1-4fe1-b989-22bc1ff0d3c6",
   "metadata": {},
   "source": [
    "## N-grams (Bigrams and Trigrams)"
   ]
  },
  {
   "cell_type": "code",
   "execution_count": 72,
   "id": "c4eb72dd-179b-48ca-9648-3cd7308fb333",
   "metadata": {},
   "outputs": [
    {
     "name": "stdout",
     "output_type": "stream",
     "text": [
      "Unigram : [('criket',), ('best',), ('game',), ('games',)]\n",
      "\n",
      "\n",
      "Bigrams is : [('criket', 'best'), ('best', 'game'), ('game', 'games')]\n",
      "\n",
      "\n",
      "Trigrams is : [('criket', 'best', 'game'), ('best', 'game', 'games')]\n"
     ]
    }
   ],
   "source": [
    "print(\"Unigram :\",list(ngrams(filtered,1)))\n",
    "print(\"\\n\\nBigrams is :\",list(ngrams(filtered,2)))\n",
    "print(\"\\n\\nTrigrams is :\",list(ngrams(filtered,3)))"
   ]
  },
  {
   "cell_type": "code",
   "execution_count": null,
   "id": "b50646f2-d4f5-4fcd-b742-ed393b1e9310",
   "metadata": {},
   "outputs": [],
   "source": []
  }
 ],
 "metadata": {
  "kernelspec": {
   "display_name": "Python 3 (ipykernel)",
   "language": "python",
   "name": "python3"
  },
  "language_info": {
   "codemirror_mode": {
    "name": "ipython",
    "version": 3
   },
   "file_extension": ".py",
   "mimetype": "text/x-python",
   "name": "python",
   "nbconvert_exporter": "python",
   "pygments_lexer": "ipython3",
   "version": "3.13.7"
  }
 },
 "nbformat": 4,
 "nbformat_minor": 5
}
