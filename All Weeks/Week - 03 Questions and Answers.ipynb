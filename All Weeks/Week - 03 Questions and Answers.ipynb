{
 "cells": [
  {
   "cell_type": "markdown",
   "metadata": {},
   "source": [
    "# 3) Using Numpy module , Perform the follwing operations ."
   ]
  },
  {
   "cell_type": "markdown",
   "metadata": {},
   "source": [
    "# a) Demonstarte Array aggregations functions."
   ]
  },
  {
   "cell_type": "markdown",
   "metadata": {},
   "source": [
    "# Sum() :- Use to find the sum of the given array.\n",
    "# max() :- It returns the maximum values among the elements of given array.\n",
    "# min() :- It returns the minimum values among the elements of given array.\n",
    "# mean() :- It returns the  Mean(Averge) of the input array.\n",
    "# std () :- It shows the standard deviation of array.\n",
    "# median () :- It returns the median value of array.\n"
   ]
  },
  {
   "cell_type": "code",
   "execution_count": 4,
   "metadata": {},
   "outputs": [],
   "source": [
    "import numpy as np\n"
   ]
  },
  {
   "cell_type": "code",
   "execution_count": 21,
   "metadata": {},
   "outputs": [
    {
     "name": "stdout",
     "output_type": "stream",
     "text": [
      "set of a array is : [20 26 73 84 34 97 45 72]\n",
      "set of b array is : [45 23 66 63 44 85 23 41]\n"
     ]
    }
   ],
   "source": [
    "a=np.array([20,26,73,84,34,97,45,72])\n",
    "b=np.array([45,23,66,63,44,85,23,41])\n",
    "print(\"set of a array is :\",a)\n",
    "print(\"set of b array is :\",b)"
   ]
  },
  {
   "cell_type": "markdown",
   "metadata": {},
   "source": [
    "# 1) Sum () :-"
   ]
  },
  {
   "cell_type": "code",
   "execution_count": 26,
   "metadata": {},
   "outputs": [
    {
     "name": "stdout",
     "output_type": "stream",
     "text": [
      "Sum of array is : 451\n"
     ]
    }
   ],
   "source": [
    "s=(a.sum())\n",
    "print(\"Sum of a array is :\",s)\n",
    "     # OR\n",
    "#print(\"sum of a array is :\",np.sum(a))"
   ]
  },
  {
   "cell_type": "markdown",
   "metadata": {},
   "source": [
    "# 2) Max () :-"
   ]
  },
  {
   "cell_type": "code",
   "execution_count": 27,
   "metadata": {},
   "outputs": [
    {
     "name": "stdout",
     "output_type": "stream",
     "text": [
      "Maximum values of array is : 85\n"
     ]
    }
   ],
   "source": [
    "# m=(b.max())\n",
    "# print(\"Maximum values of array is :\",m)\n",
    "      # OR\n",
    "print(\"Maximum values of array is :\",np.max(b))    "
   ]
  },
  {
   "cell_type": "markdown",
   "metadata": {},
   "source": [
    "# 3) Min () :-"
   ]
  },
  {
   "cell_type": "code",
   "execution_count": 28,
   "metadata": {},
   "outputs": [
    {
     "name": "stdout",
     "output_type": "stream",
     "text": [
      "Minimum value of array is : 20\n"
     ]
    }
   ],
   "source": [
    "# mi=(a.min())\n",
    "# print(\"Minimum value of array is :-\",mi)\n",
    "           # OR\n",
    "print(\"Minimum value of array is :\",np.min(a))"
   ]
  },
  {
   "cell_type": "markdown",
   "metadata": {},
   "source": [
    "# 4) Mean () :-"
   ]
  },
  {
   "cell_type": "code",
   "execution_count": 29,
   "metadata": {},
   "outputs": [
    {
     "name": "stdout",
     "output_type": "stream",
     "text": [
      "Averge value of array is : 56.375\n"
     ]
    }
   ],
   "source": [
    "# me=(a.mean())\n",
    "# print(\"Averge value of array is :\",me)\n",
    "          # OR\n",
    "print(\"Averge value of array is :\",np.mean(a))    "
   ]
  },
  {
   "cell_type": "markdown",
   "metadata": {},
   "source": [
    "# 5 ) std () :-"
   ]
  },
  {
   "cell_type": "code",
   "execution_count": 32,
   "metadata": {},
   "outputs": [
    {
     "name": "stdout",
     "output_type": "stream",
     "text": [
      "Standerd diviation of array is : 20.116846174288852\n"
     ]
    }
   ],
   "source": [
    "# st=(b.std())\n",
    "# print(\"Standerd diviation of array is :\",st)\n",
    "               # OR\n",
    "print(\"Standerd diviation of array is :\",np.std(b))   "
   ]
  },
  {
   "cell_type": "markdown",
   "metadata": {},
   "source": [
    "# 6 ) median () :-"
   ]
  },
  {
   "cell_type": "code",
   "execution_count": 36,
   "metadata": {},
   "outputs": [
    {
     "name": "stdout",
     "output_type": "stream",
     "text": [
      "Median of a array is : 58.5\n"
     ]
    }
   ],
   "source": [
    "# md=(a.std())\n",
    "# print(\"Median of a array is :\",md)\n",
    "            # OR\n",
    "print(\"Median of a array is :\",np.median(a))    "
   ]
  },
  {
   "cell_type": "markdown",
   "metadata": {},
   "source": [
    "# b) Demonstarte the vectorized operations."
   ]
  },
  {
   "cell_type": "code",
   "execution_count": 5,
   "metadata": {},
   "outputs": [],
   "source": [
    "import numpy as np\n",
    "\n",
    "# creating arrays\n",
    "\n",
    "a1= np.array([10, 20, 30])\n",
    "b1= np.array([1, 2, 3])"
   ]
  },
  {
   "cell_type": "code",
   "execution_count": 6,
   "metadata": {},
   "outputs": [
    {
     "name": "stdout",
     "output_type": "stream",
     "text": [
      "set of a1 array is : [10 20 30]\n",
      "set of b1 array is : [1 2 3]\n"
     ]
    }
   ],
   "source": [
    "print(\"set of a1 array is :\",a1)\n",
    "print(\"set of b1 array is :\",b1)"
   ]
  },
  {
   "cell_type": "code",
   "execution_count": 12,
   "metadata": {},
   "outputs": [
    {
     "name": "stdout",
     "output_type": "stream",
     "text": [
      "Addition: [11 22 33]\n",
      "Subtraction: [ 9 18 27]\n",
      "Multiplication: [10 40 90]\n",
      "Division: [10. 10. 10.]\n"
     ]
    }
   ],
   "source": [
    "# Arithmetic Operations\n",
    " # Addition\n",
    " # Subtraction\n",
    " # Multiplication\n",
    " # Division\n",
    "\n",
    "print(\"Addition:\",a1 + b1)        \n",
    "print(\"Subtraction:\", a1 - b1)      \n",
    "print(\"Multiplication:\", a1 * b1)   \n",
    "print(\"Division:\", a1 / b1)        \n"
   ]
  },
  {
   "cell_type": "code",
   "execution_count": 13,
   "metadata": {},
   "outputs": [
    {
     "name": "stdout",
     "output_type": "stream",
     "text": [
      "Square root of a: [3.16227766 4.47213595 5.47722558]\n"
     ]
    }
   ],
   "source": [
    "#  Mathematical Functions\n",
    "\n",
    "print(\"Square root of a:\", np.sqrt(a1))   "
   ]
  },
  {
   "cell_type": "code",
   "execution_count": 39,
   "metadata": {},
   "outputs": [
    {
     "name": "stdout",
     "output_type": "stream",
     "text": [
      "Sum of a: 60\n",
      "Max of b: 3\n",
      "Mean of a: 20.0\n"
     ]
    }
   ],
   "source": [
    "print(\"Sum of a:\", np.sum(a))             \n",
    "print(\"Max of b:\", np.max(b))            \n",
    "print(\"Mean of a:\", np.mean(a))  "
   ]
  },
  {
   "cell_type": "markdown",
   "metadata": {},
   "source": [
    "# c) Demonstarte the map , filter , reduce , lambda functions with data frame."
   ]
  },
  {
   "cell_type": "code",
   "execution_count": 15,
   "metadata": {},
   "outputs": [
    {
     "data": {
      "text/html": [
       "<div>\n",
       "<style scoped>\n",
       "    .dataframe tbody tr th:only-of-type {\n",
       "        vertical-align: middle;\n",
       "    }\n",
       "\n",
       "    .dataframe tbody tr th {\n",
       "        vertical-align: top;\n",
       "    }\n",
       "\n",
       "    .dataframe thead th {\n",
       "        text-align: right;\n",
       "    }\n",
       "</style>\n",
       "<table border=\"1\" class=\"dataframe\">\n",
       "  <thead>\n",
       "    <tr style=\"text-align: right;\">\n",
       "      <th></th>\n",
       "      <th>Name</th>\n",
       "      <th>Age</th>\n",
       "      <th>Salary</th>\n",
       "    </tr>\n",
       "  </thead>\n",
       "  <tbody>\n",
       "    <tr>\n",
       "      <th>0</th>\n",
       "      <td>Alice</td>\n",
       "      <td>25</td>\n",
       "      <td>50000</td>\n",
       "    </tr>\n",
       "    <tr>\n",
       "      <th>1</th>\n",
       "      <td>Bob</td>\n",
       "      <td>30</td>\n",
       "      <td>60000</td>\n",
       "    </tr>\n",
       "    <tr>\n",
       "      <th>2</th>\n",
       "      <td>Charlie</td>\n",
       "      <td>35</td>\n",
       "      <td>70000</td>\n",
       "    </tr>\n",
       "    <tr>\n",
       "      <th>3</th>\n",
       "      <td>David</td>\n",
       "      <td>40</td>\n",
       "      <td>80000</td>\n",
       "    </tr>\n",
       "  </tbody>\n",
       "</table>\n",
       "</div>"
      ],
      "text/plain": [
       "      Name  Age  Salary\n",
       "0    Alice   25   50000\n",
       "1      Bob   30   60000\n",
       "2  Charlie   35   70000\n",
       "3    David   40   80000"
      ]
     },
     "execution_count": 15,
     "metadata": {},
     "output_type": "execute_result"
    }
   ],
   "source": [
    "import pandas as pd\n",
    "from functools import reduce\n",
    "\n",
    "data = {\n",
    "    'Name': ['Alice', 'Bob', 'Charlie', 'David'],\n",
    "    'Age': [25, 30, 35, 40],\n",
    "    'Salary': [50000, 60000, 70000, 80000]\n",
    "}\n",
    "\n",
    "df = pd.DataFrame(data)\n",
    "df\n"
   ]
  },
  {
   "cell_type": "markdown",
   "metadata": {},
   "source": [
    "# 1) map () :-"
   ]
  },
  {
   "cell_type": "code",
   "execution_count": 44,
   "metadata": {},
   "outputs": [
    {
     "name": "stdout",
     "output_type": "stream",
     "text": [
      "Added Salaries:\n",
      " 0    52000\n",
      "1    62000\n",
      "2    72000\n",
      "3    82000\n",
      "Name: Salary, dtype: int64\n"
     ]
    }
   ],
   "source": [
    "def add(x):\n",
    "    return x + 2000\n",
    "\n",
    "Salary_List = df['Salary'].map(add)\n",
    "print(\"Added Salaries:\\n\", Salary_List)"
   ]
  },
  {
   "cell_type": "code",
   "execution_count": 21,
   "metadata": {},
   "outputs": [
    {
     "name": "stdout",
     "output_type": "stream",
     "text": [
      "Add Sal \n",
      " [52500, 62500, 72500, 82500]\n"
     ]
    }
   ],
   "source": [
    "def add(x):\n",
    "    return x + 2500\n",
    "\n",
    "sl=df['Salary']\n",
    "res=print(\"Add Sal \\n\",list(map(add,sl)))\n",
    "res"
   ]
  },
  {
   "cell_type": "markdown",
   "metadata": {},
   "source": [
    "# 2) filter () :-"
   ]
  },
  {
   "cell_type": "code",
   "execution_count": 45,
   "metadata": {},
   "outputs": [
    {
     "name": "stdout",
     "output_type": "stream",
     "text": [
      "Grater then 30 years Age : [35, 40]\n"
     ]
    }
   ],
   "source": [
    "def get(age):\n",
    "    if age > 30:\n",
    "        return True\n",
    "l1=(df['Age'])    \n",
    "res=list(filter(get,l1))\n",
    "print(\"Grater then 30 years Age :\",res)"
   ]
  },
  {
   "cell_type": "markdown",
   "metadata": {},
   "source": [
    "# 3) reduce () :-"
   ]
  },
  {
   "cell_type": "code",
   "execution_count": 46,
   "metadata": {},
   "outputs": [
    {
     "name": "stdout",
     "output_type": "stream",
     "text": [
      "Total Salary: 260000\n"
     ]
    }
   ],
   "source": [
    "\n",
    "def add(x, y):\n",
    "    return x + y\n",
    "\n",
    "total_salary = reduce(add, df['Salary'])\n",
    "print(\"Total Salary:\", total_salary)"
   ]
  },
  {
   "cell_type": "code",
   "execution_count": 47,
   "metadata": {},
   "outputs": [
    {
     "name": "stdout",
     "output_type": "stream",
     "text": [
      "Maximum Age: 40\n"
     ]
    }
   ],
   "source": [
    "\n",
    "def max_value(x, y):\n",
    "    return x if x > y else y\n",
    "\n",
    "max_age = reduce(max_value, df['Age'])\n",
    "print(\"Maximum Age:\", max_age)"
   ]
  },
  {
   "cell_type": "markdown",
   "metadata": {},
   "source": [
    "# 4) lambda () :-"
   ]
  },
  {
   "cell_type": "code",
   "execution_count": 48,
   "metadata": {},
   "outputs": [
    {
     "name": "stdout",
     "output_type": "stream",
     "text": [
      "      Name  Age  Salary\n",
      "2  Charlie   35   70000\n",
      "3    David   40   80000\n"
     ]
    }
   ],
   "source": [
    "# Age grater then 30 years using lambda\n",
    "\n",
    "old= df[df['Age'].apply(lambda x: x > 30)]\n",
    "print(old)"
   ]
  },
  {
   "cell_type": "code",
   "execution_count": 49,
   "metadata": {},
   "outputs": [
    {
     "name": "stdout",
     "output_type": "stream",
     "text": [
      "Total Salary: 260000\n"
     ]
    }
   ],
   "source": [
    "# Sum of salary using Lambda\n",
    "\n",
    "total= reduce(lambda x, y: x + y, df['Salary'])\n",
    "print(\"Total Salary:\", total)"
   ]
  }
 ],
 "metadata": {
  "kernelspec": {
   "display_name": "Python 3 (ipykernel)",
   "language": "python",
   "name": "python3"
  },
  "language_info": {
   "codemirror_mode": {
    "name": "ipython",
    "version": 3
   },
   "file_extension": ".py",
   "mimetype": "text/x-python",
   "name": "python",
   "nbconvert_exporter": "python",
   "pygments_lexer": "ipython3",
   "version": "3.13.7"
  }
 },
 "nbformat": 4,
 "nbformat_minor": 4
}
