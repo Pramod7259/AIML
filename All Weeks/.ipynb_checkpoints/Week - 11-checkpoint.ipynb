{
 "cells": [
  {
   "cell_type": "code",
   "execution_count": 27,
   "id": "2e862641-7e52-4dd5-9924-6b9381fa5706",
   "metadata": {},
   "outputs": [
    {
     "name": "stdout",
     "output_type": "stream",
     "text": [
      "This a sample text contains stop words punctuation marks.\n"
     ]
    }
   ],
   "source": [
    "import re\n",
    "stop_words=[\"the\",\"is\",\"and\",\"of\",\"to\",\"was\",\"on\"]\n",
    "\n",
    "punctuation_regex=re.compile(r\"[,.!?]\")\n",
    "\n",
    "def drop_stop_words_and_punctuations(text):\n",
    "    words=text.split()\n",
    "    filtered_words=[]\n",
    "    for word in words:\n",
    "        if word not in stop_words and not punctuation_regex.match(word):\n",
    "            filtered_words.append(word)\n",
    "    return \" \".join(filtered_words)     \n",
    "\n",
    "text=\"This is a sample text contains stop words and punctuation marks.\"    \n",
    "filtered_text=drop_stop_words_and_punctuations(text)\n",
    "print(filtered_text)"
   ]
  },
  {
   "cell_type": "code",
   "execution_count": 26,
   "id": "821ddb0c-d1a9-43fb-a571-acc399a2fbe5",
   "metadata": {},
   "outputs": [
    {
     "name": "stdout",
     "output_type": "stream",
     "text": [
      "This\n"
     ]
    }
   ],
   "source": [
    "print(filtered_text)"
   ]
  },
  {
   "cell_type": "code",
   "execution_count": 31,
   "id": "631492f3-d17b-4f0b-bb71-6ea412774033",
   "metadata": {},
   "outputs": [
    {
     "name": "stdout",
     "output_type": "stream",
     "text": [
      "am student GPT Soraba. Soraba greate place, very happy our GPT.\n"
     ]
    }
   ],
   "source": [
    "import re\n",
    "stop_words=[\"I\",\"a\",\"is\",\"we\",\"are\",\"in\",\"that\"]\n",
    "\n",
    "punctuation_regex=re.compile(r\"[,.!?]\")\n",
    "\n",
    "def drop_stop_words_and_punctuations(text):\n",
    "    words=text.split()\n",
    "    filtered_words=[]\n",
    "    for word in words:\n",
    "        if word not in stop_words and not punctuation_regex.match(word):\n",
    "            filtered_words.append(word)\n",
    "    return \" \".join(filtered_words)     \n",
    "\n",
    "text=\"I am a student in GPT Soraba. Soraba is a greate place, we are very happy that our GPT.\"    \n",
    "filtered_text=drop_stop_words_and_punctuations(text)\n",
    "print(filtered_text)"
   ]
  },
  {
   "cell_type": "code",
   "execution_count": 36,
   "id": "91d25932-a2d8-4335-87e6-6631ddd1c0c3",
   "metadata": {},
   "outputs": [
    {
     "name": "stdout",
     "output_type": "stream",
     "text": [
      "My self Pramod am studing in 5th semister CSE This CSE department very good\n"
     ]
    }
   ],
   "source": [
    "import re\n",
    "stop_words=[\"the\",\"is\",\"and\",\"of\",\"to\",\"was\",\"on\",\"i\"]\n",
    "\n",
    "punctuation_regex=re.compile(r\"[, . ! ?]\")\n",
    "\n",
    "def drop_stop_words_and_punctuations(text):\n",
    "    words=text.split()\n",
    "    filtered_words=[]\n",
    "    for word in words:\n",
    "        if word not in stop_words and not punctuation_regex.match(word):\n",
    "            filtered_words.append(word)\n",
    "    return \" \".join(filtered_words)     \n",
    "\n",
    "text=\"My self Pramod i am studing in 5th semister CSE . This CSE department is very good ! . \"    \n",
    "filtered_text=drop_stop_words_and_punctuations(text)\n",
    "print(filtered_text)"
   ]
  },
  {
   "cell_type": "code",
   "execution_count": null,
   "id": "51aa0993-2c2d-4d87-902e-ba6da388a8e3",
   "metadata": {},
   "outputs": [],
   "source": []
  }
 ],
 "metadata": {
  "kernelspec": {
   "display_name": "Python 3 (ipykernel)",
   "language": "python",
   "name": "python3"
  },
  "language_info": {
   "codemirror_mode": {
    "name": "ipython",
    "version": 3
   },
   "file_extension": ".py",
   "mimetype": "text/x-python",
   "name": "python",
   "nbconvert_exporter": "python",
   "pygments_lexer": "ipython3",
   "version": "3.13.7"
  }
 },
 "nbformat": 4,
 "nbformat_minor": 5
}
