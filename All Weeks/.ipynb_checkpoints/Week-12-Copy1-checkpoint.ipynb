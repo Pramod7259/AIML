{
 "cells": [
  {
   "cell_type": "markdown",
   "id": "2519eae0-98f5-48d3-9390-0fe3fb19ec26",
   "metadata": {},
   "source": [
    "# Write a NLP Program to demostrate following tasks"
   ]
  },
  {
   "cell_type": "markdown",
   "id": "64458ba9-e9ab-4f08-b088-2322bad0fbfa",
   "metadata": {},
   "source": [
    "## a. Tokenization removal of stop words, punchuation, POS & NER Tags¶\n",
    "## b. Bag of Words, TF-IDF Vectorisation & Ngrams"
   ]
  },
  {
   "cell_type": "code",
   "execution_count": null,
   "id": "491b59d6-c59f-4709-9918-9ebaa5e3c1d9",
   "metadata": {},
   "outputs": [],
   "source": []
  },
  {
   "cell_type": "markdown",
   "id": "b3078bea-f65e-48ac-8409-cd01830a7fb6",
   "metadata": {},
   "source": [
    "## Import Libraries"
   ]
  },
  {
   "cell_type": "code",
   "execution_count": 1,
   "id": "15e46215-03e4-434d-ab1e-a880226b5c32",
   "metadata": {},
   "outputs": [],
   "source": [
    "import re \n",
    "import nltk \n",
    "import spacy \n",
    "from nltk.corpus import stopwords\n",
    "from nltk.tokenize import word_tokenize \n",
    "from nltk.util import ngrams\n",
    "from sklearn.feature_extraction.text import CountVectorizer,TfidfVectorizer"
   ]
  },
  {
   "cell_type": "markdown",
   "id": "c7cb1bfd-658f-4ce2-9554-d0ac5654c1d2",
   "metadata": {},
   "source": [
    "## Download required NLTK resources"
   ]
  },
  {
   "cell_type": "code",
   "execution_count": 12,
   "id": "1a4b5393-b4a0-4288-9d16-60a10b9ec011",
   "metadata": {},
   "outputs": [
    {
     "name": "stderr",
     "output_type": "stream",
     "text": [
      "[nltk_data] Downloading package punkt to C:\\Users\\Pramoda A\n",
      "[nltk_data]     S\\AppData\\Roaming\\nltk_data...\n",
      "[nltk_data]   Package punkt is already up-to-date!\n",
      "[nltk_data] Downloading package stopwords to C:\\Users\\Pramoda A\n",
      "[nltk_data]     S\\AppData\\Roaming\\nltk_data...\n",
      "[nltk_data]   Package stopwords is already up-to-date!\n",
      "[nltk_data] Downloading package averaged_perceptron_tagger to\n",
      "[nltk_data]     C:\\Users\\Pramoda A S\\AppData\\Roaming\\nltk_data...\n",
      "[nltk_data]   Package averaged_perceptron_tagger is already up-to-\n",
      "[nltk_data]       date!\n",
      "[nltk_data] Downloading package maxent_ne_chunker to C:\\Users\\Pramoda\n",
      "[nltk_data]     A S\\AppData\\Roaming\\nltk_data...\n",
      "[nltk_data]   Package maxent_ne_chunker is already up-to-date!\n",
      "[nltk_data] Downloading package words to C:\\Users\\Pramoda A\n",
      "[nltk_data]     S\\AppData\\Roaming\\nltk_data...\n",
      "[nltk_data]   Package words is already up-to-date!\n"
     ]
    },
    {
     "data": {
      "text/plain": [
       "True"
      ]
     },
     "execution_count": 12,
     "metadata": {},
     "output_type": "execute_result"
    }
   ],
   "source": [
    "nltk.download(\"punkt\")\n",
    "nltk.download(\"stopwords\")\n",
    "nltk.download(\"averaged_perceptron_tagger\")\n",
    "nltk.download(\"maxent_ne_chunker\")\n",
    "nltk.download(\"words\")"
   ]
  },
  {
   "cell_type": "markdown",
   "id": "bca2c58a-9dbf-45d6-b248-2700ad161a71",
   "metadata": {},
   "source": [
    "# Sample Text"
   ]
  },
  {
   "cell_type": "code",
   "execution_count": 2,
   "id": "0b178b2d-1b97-48fb-b217-4d30db2b8665",
   "metadata": {},
   "outputs": [],
   "source": [
    "text=\"\"\"Apple is looking at buying U.K. startup for $1 billion. \n",
    "          Artificial Intelligence is the future of technology!\"\"\""
   ]
  },
  {
   "cell_type": "markdown",
   "id": "e002ce64-a490-4e60-9ca1-3998f76a68a2",
   "metadata": {},
   "source": [
    "## Tokenize text"
   ]
  },
  {
   "cell_type": "code",
   "execution_count": 3,
   "id": "d958aeb5-225a-4765-9a40-03f828c49de1",
   "metadata": {},
   "outputs": [
    {
     "name": "stdout",
     "output_type": "stream",
     "text": [
      "---Tokens----\n",
      "['Apple', 'is', 'looking', 'at', 'buying', 'U.K.', 'startup', 'for', '$', '1', 'billion', '.', 'Artificial', 'Intelligence', 'is', 'the', 'future', 'of', 'technology', '!']\n"
     ]
    }
   ],
   "source": [
    "tokens=word_tokenize(text)\n",
    "print(\"---Tokens----\")\n",
    "print(tokens)"
   ]
  },
  {
   "cell_type": "code",
   "execution_count": null,
   "id": "971571a3-3771-4489-aea0-1bbec0893de7",
   "metadata": {},
   "outputs": [],
   "source": []
  },
  {
   "cell_type": "markdown",
   "id": "fca93c8b-63f8-4fc9-988e-eac251d4b04e",
   "metadata": {},
   "source": [
    "## Remove stop words and punctuation"
   ]
  },
  {
   "cell_type": "code",
   "execution_count": 4,
   "id": "36adb379-af0e-4fb6-becd-b935d0621597",
   "metadata": {},
   "outputs": [
    {
     "name": "stdout",
     "output_type": "stream",
     "text": [
      "After stopwords removel : ['Apple', 'looking', 'buying', 'startup', 'billion', 'Artificial', 'Intelligence', 'future', 'technology']\n"
     ]
    }
   ],
   "source": [
    "filtered=[w for w in tokens if w.isalpha() and w.lower() not in stopwords.words(\"english\")]\n",
    "print(\"After stopwords removel :\",filtered)"
   ]
  },
  {
   "cell_type": "code",
   "execution_count": null,
   "id": "15f05ed4-d518-459b-9d01-dfee1822aca5",
   "metadata": {},
   "outputs": [],
   "source": []
  },
  {
   "cell_type": "markdown",
   "id": "da606a24-607c-48eb-b2c7-6329a8acb752",
   "metadata": {},
   "source": [
    "## POS tagging"
   ]
  },
  {
   "cell_type": "code",
   "execution_count": 5,
   "id": "5b8e4e41-29c8-4a79-b224-eeb21a67dbfa",
   "metadata": {},
   "outputs": [],
   "source": [
    "nlp=spacy.load('en_core_web_sm')"
   ]
  },
  {
   "cell_type": "code",
   "execution_count": 6,
   "id": "edfcd43c-8d7a-432d-9bcc-993c50cd9e2f",
   "metadata": {},
   "outputs": [],
   "source": [
    "doc=nlp(text)"
   ]
  },
  {
   "cell_type": "code",
   "execution_count": 7,
   "id": "d0d0d24e-5ffe-4f84-b0b1-cc6a9f8e3d0d",
   "metadata": {},
   "outputs": [
    {
     "name": "stdout",
     "output_type": "stream",
     "text": [
      "POS Tagging\n",
      "Apple        -->PROPN\n",
      "is           -->AUX\n",
      "looking      -->VERB\n",
      "at           -->ADP\n",
      "buying       -->VERB\n",
      "U.K.         -->PROPN\n",
      "startup      -->VERB\n",
      "for          -->ADP\n",
      "$            -->SYM\n",
      "1            -->NUM\n",
      "billion      -->NUM\n",
      ".            -->PUNCT\n",
      "\n",
      "            -->SPACE\n",
      "Artificial   -->PROPN\n",
      "Intelligence -->PROPN\n",
      "is           -->AUX\n",
      "the          -->DET\n",
      "future       -->NOUN\n",
      "of           -->ADP\n",
      "technology   -->NOUN\n",
      "!            -->PUNCT\n"
     ]
    }
   ],
   "source": [
    "print(\"POS Tagging\")\n",
    "for token in doc:\n",
    "    print(f\"{token.text:<12} -->{token.pos_}\")"
   ]
  },
  {
   "cell_type": "code",
   "execution_count": null,
   "id": "5852c26a-03d3-4fdb-841f-5fd2ae90a20a",
   "metadata": {},
   "outputs": [],
   "source": []
  },
  {
   "cell_type": "markdown",
   "id": "7db2133e-f2c5-435c-a321-75d587741784",
   "metadata": {},
   "source": [
    "## Named Entity Recognition"
   ]
  },
  {
   "cell_type": "code",
   "execution_count": 8,
   "id": "c4df7c15-b9eb-4fe4-ad01-c5a83ca23908",
   "metadata": {},
   "outputs": [
    {
     "name": "stdout",
     "output_type": "stream",
     "text": [
      "-----Named Entity Recognition------\n",
      "\n",
      "Apple         ORG\n",
      "U.K.          GPE\n",
      "$1 billion    MONEY\n",
      "Artificial Intelligence  PERSON\n"
     ]
    }
   ],
   "source": [
    "print(\"-----Named Entity Recognition------\\n\")\n",
    "for ent in doc.ents: \n",
    "    print(f\"{ent.text:<12}  {ent.label_}\")"
   ]
  },
  {
   "cell_type": "code",
   "execution_count": null,
   "id": "31a9426b-026e-4149-9721-11541425d985",
   "metadata": {},
   "outputs": [],
   "source": []
  },
  {
   "cell_type": "markdown",
   "id": "a42e6069-4bad-44aa-918d-78869c4fbc07",
   "metadata": {},
   "source": [
    "## Bag of Words"
   ]
  },
  {
   "cell_type": "code",
   "execution_count": 9,
   "id": "2d66c5ba-2e02-413d-8529-a2216a79eefe",
   "metadata": {},
   "outputs": [
    {
     "name": "stdout",
     "output_type": "stream",
     "text": [
      "['apple' 'artificial' 'at' 'billion' 'buying' 'for' 'future'\n",
      " 'intelligence' 'is' 'looking' 'of' 'startup' 'technology' 'the']\n",
      "[[1 1 1 1 1 1 1 1 2 1 1 1 1 1]]\n"
     ]
    }
   ],
   "source": [
    "vet=CountVectorizer()\n",
    "bow=vet.fit_transform([text])\n",
    "print(vet.get_feature_names_out())\n",
    "print(bow.toarray())"
   ]
  },
  {
   "cell_type": "code",
   "execution_count": null,
   "id": "1f17fa96-f1f7-415c-a3c1-bffa9316ce69",
   "metadata": {},
   "outputs": [],
   "source": []
  },
  {
   "cell_type": "markdown",
   "id": "9017a28f-442a-4070-acd7-c2b9c886b960",
   "metadata": {},
   "source": [
    "## TF-IDF"
   ]
  },
  {
   "cell_type": "code",
   "execution_count": 10,
   "id": "f9bba7c5-827f-407c-bca2-595c2620c317",
   "metadata": {},
   "outputs": [
    {
     "name": "stdout",
     "output_type": "stream",
     "text": [
      "['apple' 'artificial' 'at' 'billion' 'buying' 'for' 'future'\n",
      " 'intelligence' 'is' 'looking' 'of' 'startup' 'technology' 'the']\n",
      "[[0.24253563 0.24253563 0.24253563 0.24253563 0.24253563 0.24253563\n",
      "  0.24253563 0.24253563 0.48507125 0.24253563 0.24253563 0.24253563\n",
      "  0.24253563 0.24253563]]\n"
     ]
    }
   ],
   "source": [
    "tf_idf=TfidfVectorizer()\n",
    "tfidf=tf_idf.fit_transform([text])\n",
    "print(tf_idf.get_feature_names_out())\n",
    "print(tfidf.toarray())"
   ]
  },
  {
   "cell_type": "code",
   "execution_count": null,
   "id": "617ff9d4-5c6d-4e61-a0e0-593fa73f630e",
   "metadata": {},
   "outputs": [],
   "source": []
  },
  {
   "cell_type": "markdown",
   "id": "9acedf39-b02e-42c3-b95f-ad6ab22505ee",
   "metadata": {},
   "source": [
    "## N-grams (Bigrams and Trigrams)"
   ]
  },
  {
   "cell_type": "code",
   "execution_count": 11,
   "id": "7f2e9466-e1b0-4a9c-83eb-4e1766514925",
   "metadata": {},
   "outputs": [
    {
     "name": "stdout",
     "output_type": "stream",
     "text": [
      "Unigram : [('Apple',), ('looking',), ('buying',), ('startup',), ('billion',), ('Artificial',), ('Intelligence',), ('future',), ('technology',)]\n",
      "\n",
      "\n",
      "Bigrams is : [('Apple', 'looking'), ('looking', 'buying'), ('buying', 'startup'), ('startup', 'billion'), ('billion', 'Artificial'), ('Artificial', 'Intelligence'), ('Intelligence', 'future'), ('future', 'technology')]\n",
      "\n",
      "\n",
      "Trigrams is : [('Apple', 'looking', 'buying'), ('looking', 'buying', 'startup'), ('buying', 'startup', 'billion'), ('startup', 'billion', 'Artificial'), ('billion', 'Artificial', 'Intelligence'), ('Artificial', 'Intelligence', 'future'), ('Intelligence', 'future', 'technology')]\n"
     ]
    }
   ],
   "source": [
    "print(\"Unigram :\",list(ngrams(filtered,1)))\n",
    "print(\"\\n\\nBigrams is :\",list(ngrams(filtered,2)))\n",
    "print(\"\\n\\nTrigrams is :\",list(ngrams(filtered,3)))"
   ]
  },
  {
   "cell_type": "code",
   "execution_count": null,
   "id": "a652eb88-59c9-446c-ae51-041015dec453",
   "metadata": {},
   "outputs": [],
   "source": []
  }
 ],
 "metadata": {
  "kernelspec": {
   "display_name": "Python 3 (ipykernel)",
   "language": "python",
   "name": "python3"
  },
  "language_info": {
   "codemirror_mode": {
    "name": "ipython",
    "version": 3
   },
   "file_extension": ".py",
   "mimetype": "text/x-python",
   "name": "python",
   "nbconvert_exporter": "python",
   "pygments_lexer": "ipython3",
   "version": "3.13.7"
  }
 },
 "nbformat": 4,
 "nbformat_minor": 5
}
