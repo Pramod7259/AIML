{
 "cells": [
  {
   "cell_type": "markdown",
   "id": "12c666e3-9f23-42d6-8950-aef88995e24f",
   "metadata": {},
   "source": [
    "# -------------Experiment - 11-----------"
   ]
  },
  {
   "cell_type": "markdown",
   "id": "bd10e04e-5241-4113-9dba-e74aea235acc",
   "metadata": {},
   "source": [
    "# Consider the Mall customer dataset and perform the following operations.\n",
    "\n",
    "## a) Using Elbow method find the optimal numbers of clusters.\n",
    "## b) Train a k-mean cluster algorithm and training dataset.\n",
    "## c) Evaluate the model using Inertia and other metrics."
   ]
  },
  {
   "cell_type": "code",
   "execution_count": 1,
   "id": "462fa44c-ce00-4347-a3c5-a81cc153bce0",
   "metadata": {},
   "outputs": [],
   "source": [
    "# Import the Libraries\n",
    "\n",
    "import pandas as pd\n",
    "import numpy as np\n",
    "import matplotlib.pyplot as plt\n",
    "import seaborn as sns\n",
    "from sklearn.cluster import KMeans\n",
    "from sklearn.preprocessing import StandardScaler\n",
    "from sklearn.metrics import silhouette_score"
   ]
  },
  {
   "cell_type": "code",
   "execution_count": 2,
   "id": "1cd3a6ea-1fa2-40db-a236-630dec86990d",
   "metadata": {},
   "outputs": [
    {
     "data": {
      "text/html": [
       "<div>\n",
       "<style scoped>\n",
       "    .dataframe tbody tr th:only-of-type {\n",
       "        vertical-align: middle;\n",
       "    }\n",
       "\n",
       "    .dataframe tbody tr th {\n",
       "        vertical-align: top;\n",
       "    }\n",
       "\n",
       "    .dataframe thead th {\n",
       "        text-align: right;\n",
       "    }\n",
       "</style>\n",
       "<table border=\"1\" class=\"dataframe\">\n",
       "  <thead>\n",
       "    <tr style=\"text-align: right;\">\n",
       "      <th></th>\n",
       "      <th>CustomerID</th>\n",
       "      <th>Gender</th>\n",
       "      <th>Age</th>\n",
       "      <th>Annual Income (k$)</th>\n",
       "      <th>Spending Score (1-100)</th>\n",
       "    </tr>\n",
       "  </thead>\n",
       "  <tbody>\n",
       "    <tr>\n",
       "      <th>0</th>\n",
       "      <td>1</td>\n",
       "      <td>Male</td>\n",
       "      <td>19</td>\n",
       "      <td>15</td>\n",
       "      <td>39</td>\n",
       "    </tr>\n",
       "    <tr>\n",
       "      <th>1</th>\n",
       "      <td>2</td>\n",
       "      <td>Male</td>\n",
       "      <td>21</td>\n",
       "      <td>15</td>\n",
       "      <td>81</td>\n",
       "    </tr>\n",
       "    <tr>\n",
       "      <th>2</th>\n",
       "      <td>3</td>\n",
       "      <td>Female</td>\n",
       "      <td>20</td>\n",
       "      <td>16</td>\n",
       "      <td>6</td>\n",
       "    </tr>\n",
       "    <tr>\n",
       "      <th>3</th>\n",
       "      <td>4</td>\n",
       "      <td>Female</td>\n",
       "      <td>23</td>\n",
       "      <td>16</td>\n",
       "      <td>77</td>\n",
       "    </tr>\n",
       "    <tr>\n",
       "      <th>4</th>\n",
       "      <td>5</td>\n",
       "      <td>Female</td>\n",
       "      <td>31</td>\n",
       "      <td>17</td>\n",
       "      <td>40</td>\n",
       "    </tr>\n",
       "    <tr>\n",
       "      <th>...</th>\n",
       "      <td>...</td>\n",
       "      <td>...</td>\n",
       "      <td>...</td>\n",
       "      <td>...</td>\n",
       "      <td>...</td>\n",
       "    </tr>\n",
       "    <tr>\n",
       "      <th>195</th>\n",
       "      <td>196</td>\n",
       "      <td>Female</td>\n",
       "      <td>35</td>\n",
       "      <td>120</td>\n",
       "      <td>79</td>\n",
       "    </tr>\n",
       "    <tr>\n",
       "      <th>196</th>\n",
       "      <td>197</td>\n",
       "      <td>Female</td>\n",
       "      <td>45</td>\n",
       "      <td>126</td>\n",
       "      <td>28</td>\n",
       "    </tr>\n",
       "    <tr>\n",
       "      <th>197</th>\n",
       "      <td>198</td>\n",
       "      <td>Male</td>\n",
       "      <td>32</td>\n",
       "      <td>126</td>\n",
       "      <td>74</td>\n",
       "    </tr>\n",
       "    <tr>\n",
       "      <th>198</th>\n",
       "      <td>199</td>\n",
       "      <td>Male</td>\n",
       "      <td>32</td>\n",
       "      <td>137</td>\n",
       "      <td>18</td>\n",
       "    </tr>\n",
       "    <tr>\n",
       "      <th>199</th>\n",
       "      <td>200</td>\n",
       "      <td>Male</td>\n",
       "      <td>30</td>\n",
       "      <td>137</td>\n",
       "      <td>83</td>\n",
       "    </tr>\n",
       "  </tbody>\n",
       "</table>\n",
       "<p>200 rows × 5 columns</p>\n",
       "</div>"
      ],
      "text/plain": [
       "     CustomerID  Gender  Age  Annual Income (k$)  Spending Score (1-100)\n",
       "0             1    Male   19                  15                      39\n",
       "1             2    Male   21                  15                      81\n",
       "2             3  Female   20                  16                       6\n",
       "3             4  Female   23                  16                      77\n",
       "4             5  Female   31                  17                      40\n",
       "..          ...     ...  ...                 ...                     ...\n",
       "195         196  Female   35                 120                      79\n",
       "196         197  Female   45                 126                      28\n",
       "197         198    Male   32                 126                      74\n",
       "198         199    Male   32                 137                      18\n",
       "199         200    Male   30                 137                      83\n",
       "\n",
       "[200 rows x 5 columns]"
      ]
     },
     "execution_count": 2,
     "metadata": {},
     "output_type": "execute_result"
    }
   ],
   "source": [
    "# Read csv file\n",
    "\n",
    "df=pd.read_csv(\"C:/Users/Pramoda A S/Desktop/AIML Documents/DataSets in CSV files/Mall_Customers.csv\")\n",
    "df"
   ]
  },
  {
   "cell_type": "code",
   "execution_count": 3,
   "id": "d38e7a92-0d76-4219-b9cd-f18d33a4d679",
   "metadata": {},
   "outputs": [
    {
     "data": {
      "text/plain": [
       "CustomerID                0\n",
       "Gender                    0\n",
       "Age                       0\n",
       "Annual Income (k$)        0\n",
       "Spending Score (1-100)    0\n",
       "dtype: int64"
      ]
     },
     "execution_count": 3,
     "metadata": {},
     "output_type": "execute_result"
    }
   ],
   "source": [
    "# Pre-processing\n",
    "\n",
    "# Show the missing values\n",
    "df.isnull().sum()"
   ]
  },
  {
   "cell_type": "code",
   "execution_count": 4,
   "id": "a6fda90c-7597-4b79-9c14-5063b360fae0",
   "metadata": {},
   "outputs": [],
   "source": [
    "# Optional: to ignore warnings\n",
    "import warnings\n",
    "warnings.filterwarnings('ignore')"
   ]
  },
  {
   "cell_type": "code",
   "execution_count": 5,
   "id": "88ddbc5f-e3b0-483e-b1f2-3ad305fcc65b",
   "metadata": {},
   "outputs": [],
   "source": [
    "# Select features for clustering\n",
    "# You might try different combinations. Common: Annual Income & Spending Score\n",
    "\n",
    "X=df[['Annual Income (k$)','Spending Score (1-100)']].values"
   ]
  },
  {
   "cell_type": "code",
   "execution_count": 6,
   "id": "7217162e-8d97-43e2-979b-fa79566d3efc",
   "metadata": {},
   "outputs": [],
   "source": [
    "# Optionally scale features (helps if scales differ a lot)\n",
    "\n",
    "scaler = StandardScaler()\n",
    "x = scaler.fit_transform(X)"
   ]
  },
  {
   "cell_type": "markdown",
   "id": "26d7f95b-62b3-4280-beae-96b6d82925d4",
   "metadata": {},
   "source": [
    "## a) Using Elbow method find the optimal numbers of clusters."
   ]
  },
  {
   "cell_type": "code",
   "execution_count": 7,
   "id": "35be0c33-66ed-437a-a1eb-40b8251d39a1",
   "metadata": {},
   "outputs": [
    {
     "data": {
      "image/png": "[encoded data removed]",
      "text/plain": [
       "<Figure size 640x480 with 1 Axes>"
      ]
     },
     "metadata": {},
     "output_type": "display_data"
    }
   ],
   "source": [
    "# Elbow method \n",
    "\n",
    "wcss=[]\n",
    "for k in range(1,11):\n",
    "    km=KMeans(n_clusters=k)\n",
    "    km.fit(x)\n",
    "    wcss.append(km.inertia_)\n",
    "    \n",
    "plt.plot(range(1,11),wcss,marker='o')   \n",
    "plt.show()"
   ]
  },
  {
   "cell_type": "markdown",
   "id": "0e7e7961-9b0f-4552-a8c1-5a8a5ca86130",
   "metadata": {},
   "source": [
    "## b) Train a k-mean cluster algorithm and training dataset."
   ]
  },
  {
   "cell_type": "code",
   "execution_count": 8,
   "id": "9676ed95-62bd-4f52-b612-c7c9efc5ff3d",
   "metadata": {},
   "outputs": [],
   "source": [
    "# Fit the model \n",
    "\n",
    "k_me=KMeans(n_clusters=5,random_state=0)\n",
    "labels=k_me.fit_predict(x)"
   ]
  },
  {
   "cell_type": "code",
   "execution_count": 9,
   "id": "b9092d5c-dc7d-46c9-8312-c26809a12a7c",
   "metadata": {},
   "outputs": [
    {
     "data": {
      "image/png": "[encoded data removed]",
      "text/plain": [
       "<Figure size 640x480 with 1 Axes>"
      ]
     },
     "metadata": {},
     "output_type": "display_data"
    }
   ],
   "source": [
    "# Visualize clusters\n",
    "\n",
    "plt.scatter(x[:,0],x[:,1],c=labels)\n",
    "plt.title(\"Group of Cluster\")\n",
    "plt.legend([0,1,2,3,4])\n",
    "plt.show()"
   ]
  },
  {
   "cell_type": "markdown",
   "id": "9ed94999-d5f0-4658-a5ad-7b01445f823c",
   "metadata": {},
   "source": [
    "## c) Evaluate the model using Inertia and other metrics."
   ]
  },
  {
   "cell_type": "code",
   "execution_count": 10,
   "id": "7227ed56-186a-4ac2-8c8a-d6e1ba83231d",
   "metadata": {},
   "outputs": [
    {
     "name": "stdout",
     "output_type": "stream",
     "text": [
      "inertia is : 29.314635144348664\n"
     ]
    }
   ],
   "source": [
    "# Metrics \n",
    "\n",
    "# Inertia (Within-Cluster Sum of Squares)\n",
    "\n",
    "print(\"inertia is :\",km.inertia_)"
   ]
  },
  {
   "cell_type": "code",
   "execution_count": 11,
   "id": "8c136872-68c0-44cf-b1b3-0ff1a38152a4",
   "metadata": {},
   "outputs": [
    {
     "name": "stdout",
     "output_type": "stream",
     "text": [
      "silhouette_score is : 0.5546571631111091\n"
     ]
    }
   ],
   "source": [
    "# silhouette_score\n",
    "\n",
    "from sklearn.metrics import silhouette_score\n",
    "\n",
    "sil_score = silhouette_score(x,labels)\n",
    "print(\"silhouette_score is :\",sil_score)"
   ]
  },
  {
   "cell_type": "code",
   "execution_count": 13,
   "id": "1c469e77-eb8b-4937-92ce-5ca9343ec515",
   "metadata": {},
   "outputs": [
    {
     "name": "stdout",
     "output_type": "stream",
     "text": [
      "Davies-Bouldin Index: 0.5722356162263352\n",
      "Calinski-Harabasz Index: 248.64932001536357\n"
     ]
    }
   ],
   "source": [
    "# Other Metrics \n",
    "\n",
    "from sklearn.metrics import silhouette_score, davies_bouldin_score, calinski_harabasz_score\n",
    "\n",
    "\n",
    "# Assuming x is the standardized features and labels is cluster\n",
    "db_score = davies_bouldin_score(x,labels)\n",
    "ch_score = calinski_harabasz_score(x,labels)\n",
    "\n",
    "\n",
    "print(\"Davies-Bouldin Index:\", db_score)\n",
    "print(\"Calinski-Harabasz Index:\", ch_score)\n"
   ]
  },
  {
   "cell_type": "code",
   "execution_count": null,
   "id": "9116cd3b-6ba1-436d-90fb-4ad3829aa625",
   "metadata": {},
   "outputs": [],
   "source": []
  }
 ],
 "metadata": {
  "kernelspec": {
   "display_name": "Python 3 (ipykernel)",
   "language": "python",
   "name": "python3"
  },
  "language_info": {
   "codemirror_mode": {
    "name": "ipython",
    "version": 3
   },
   "file_extension": ".py",
   "mimetype": "text/x-python",
   "name": "python",
   "nbconvert_exporter": "python",
   "pygments_lexer": "ipython3",
   "version": "3.13.7"
  }
 },
 "nbformat": 4,
 "nbformat_minor": 5
}
