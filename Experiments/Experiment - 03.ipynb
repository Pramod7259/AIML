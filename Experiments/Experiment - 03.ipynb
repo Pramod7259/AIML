{
 "cells": [
  {
   "cell_type": "markdown",
   "id": "5645f071-2edd-4a82-a730-74cfc67e2728",
   "metadata": {},
   "source": [
    "# -------------Experiment - 03-----------"
   ]
  },
  {
   "cell_type": "code",
   "execution_count": null,
   "id": "8eba67cc-53d6-4d03-810b-14bcf6e0808d",
   "metadata": {},
   "outputs": [],
   "source": []
  }
 ],
 "metadata": {
  "kernelspec": {
   "display_name": "Python 3 (ipykernel)",
   "language": "python",
   "name": "python3"
  },
  "language_info": {
   "codemirror_mode": {
    "name": "ipython",
    "version": 3
   },
   "file_extension": ".py",
   "mimetype": "text/x-python",
   "name": "python",
   "nbconvert_exporter": "python",
   "pygments_lexer": "ipython3",
   "version": "3.13.7"
  }
 },
 "nbformat": 4,
 "nbformat_minor": 5
}
