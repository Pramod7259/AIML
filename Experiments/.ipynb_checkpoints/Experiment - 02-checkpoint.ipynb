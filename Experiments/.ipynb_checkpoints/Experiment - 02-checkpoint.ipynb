{
 "cells": [
  {
   "cell_type": "markdown",
   "id": "59776021-d52a-4e4c-987d-5451aa50aca4",
   "metadata": {},
   "source": [
    "# -------------Experiment - 02-----------"
   ]
  },
  {
   "cell_type": "markdown",
   "id": "6b95a6fd-1051-43fa-a087-dbe9488883f0",
   "metadata": {},
   "source": [
    "# 1) Using Numpy module , Perform the follwing operations ."
   ]
  },
  {
   "cell_type": "markdown",
   "id": "9df47136-cbae-467d-b4e2-474ae8e0119c",
   "metadata": {},
   "source": [
    "## a) Demonstarte array aggregations functions.\n",
    "## b) Demonstarte the vectorized operations.\n",
    "## c) Demonstarte the map , filter , reduce ,lambda functions with data frame."
   ]
  },
  {
   "cell_type": "code",
   "execution_count": null,
   "id": "3db8f228-c337-40a9-8b1c-4ad8b74b31cc",
   "metadata": {},
   "outputs": [],
   "source": []
  },
  {
   "cell_type": "markdown",
   "id": "f37174c9-f135-4aac-97f7-5b0ae6c89a5e",
   "metadata": {},
   "source": [
    "# 2) Using Pandas module , Perform the follwing operations."
   ]
  },
  {
   "cell_type": "markdown",
   "id": "9390faed-5cc1-4a6b-a3f8-73ed416f35e5",
   "metadata": {},
   "source": [
    "## a) Demonstarte Array aggregations functions.\n",
    "## b) Demonstarte the vectorized operations.\n",
    "## c) Demonstarte the map , filter , reduce , lambda functions with data frame."
   ]
  },
  {
   "cell_type": "code",
   "execution_count": null,
   "id": "1d7a77f5-e980-462c-860b-8baff109ee7c",
   "metadata": {},
   "outputs": [],
   "source": []
  },
  {
   "cell_type": "code",
   "execution_count": null,
   "id": "ce1c156c-a03c-4692-8a1b-47b43c8a24e5",
   "metadata": {},
   "outputs": [],
   "source": []
  },
  {
   "cell_type": "markdown",
   "id": "4726dd63-9aa8-44a0-9cf0-200796a3e6a1",
   "metadata": {},
   "source": [
    "## 1. a) Demonstarte array aggregations functions."
   ]
  },
  {
   "cell_type": "markdown",
   "id": "a908bc04-c4d0-4af0-9580-d868a204a107",
   "metadata": {},
   "source": [
    "### Sum() :- Use to find the sum of the givenarray.\n",
    "### max() :- It returns the maximum values amongthe elements of given array.\n",
    "### min() :- It returns the minimum values amongthe elements of given array.\n",
    "### mean() :- It returns the Mean(Averge) of theinput array.\n",
    "### std () :- It shows the standard deviation ofarray.\n",
    "### median () :- It returns the median value ofarray."
   ]
  },
  {
   "cell_type": "code",
   "execution_count": 3,
   "id": "72704f5e-9e7f-4625-a6e0-05ff487e733a",
   "metadata": {},
   "outputs": [],
   "source": [
    "# Import the library"
   ]
  },
  {
   "cell_type": "code",
   "execution_count": 4,
   "id": "2d01b43d-8bf8-4dd9-9a89-99c15fd673e3",
   "metadata": {},
   "outputs": [
    {
     "name": "stdout",
     "output_type": "stream",
     "text": [
      "set of a array is : [20 26 73 84 34 97 45 72]\n",
      "set of b array is : [45 23 66 63 44 85 23 41]\n"
     ]
    }
   ],
   "source": [
    "# Creating an 2 array\n",
    "\n",
    "a=np.array([20,26,73,84,34,97,45,72])\n",
    "b=np.array([45,23,66,63,44,85,23,41])\n",
    "print(\"set of a array is :\",a)\n",
    "print(\"set of b array is :\",b)"
   ]
  },
  {
   "cell_type": "markdown",
   "id": "395cfb0f-6a59-48a8-aa5d-0e81836d84ec",
   "metadata": {},
   "source": [
    "### Sum () :-"
   ]
  },
  {
   "cell_type": "code",
   "execution_count": 6,
   "id": "e3ceda1f-bdd5-4ccc-ae1d-9b2857e2f783",
   "metadata": {},
   "outputs": [
    {
     "name": "stdout",
     "output_type": "stream",
     "text": [
      "Sum of a array is : 451\n"
     ]
    }
   ],
   "source": [
    "s=(a.sum())\n",
    "print(\"Sum of a array is :\",s)\n",
    "     # OR\n",
    "#print(\"sum of a array is :\",np.sum(a))"
   ]
  },
  {
   "cell_type": "markdown",
   "id": "d669cfe4-4176-4ef0-8266-379bb0b6a165",
   "metadata": {},
   "source": [
    "### Max () :-"
   ]
  },
  {
   "cell_type": "code",
   "execution_count": 7,
   "id": "78d503ab-72a0-4da2-a27f-76e9dd0a15ac",
   "metadata": {},
   "outputs": [
    {
     "name": "stdout",
     "output_type": "stream",
     "text": [
      "Minimum value of array is : 20\n"
     ]
    }
   ],
   "source": [
    "# mi=(a.min())\n",
    "# print(\"Minimum value of array is :-\",mi)\n",
    "           # OR\n",
    "print(\"Minimum value of array is :\",np.min(a))"
   ]
  },
  {
   "cell_type": "markdown",
   "id": "d32a542c-0a84-47f2-be3a-d4cc2b3378fd",
   "metadata": {},
   "source": [
    "### Mean () :-"
   ]
  },
  {
   "cell_type": "code",
   "execution_count": 8,
   "id": "cb7c9a8e-af37-446d-a0b3-e25121dde1c5",
   "metadata": {},
   "outputs": [
    {
     "name": "stdout",
     "output_type": "stream",
     "text": [
      "Averge value of array is : 56.375\n"
     ]
    }
   ],
   "source": [
    "# me=(a.mean())\n",
    "# print(\"Averge value of array is :\",me)\n",
    "          # OR\n",
    "print(\"Averge value of array is :\",np.mean(a)) "
   ]
  },
  {
   "cell_type": "markdown",
   "id": "30762043-610d-4e7e-ab2f-bea211bcdaa8",
   "metadata": {},
   "source": [
    "### std () :-"
   ]
  },
  {
   "cell_type": "code",
   "execution_count": 9,
   "id": "050bf94d-78e0-4f95-a3c1-e4e7b2d85689",
   "metadata": {},
   "outputs": [
    {
     "name": "stdout",
     "output_type": "stream",
     "text": [
      "Standerd diviation of array is : 20.116846174288852\n"
     ]
    }
   ],
   "source": [
    "# st=(b.std())\n",
    "# print(\"Standerd diviation of array is :\",st)\n",
    "               # OR\n",
    "print(\"Standerd diviation of array is :\",np.std(b))   "
   ]
  },
  {
   "cell_type": "markdown",
   "id": "58754f68-b058-45ff-88d8-5ac6d1e26dc7",
   "metadata": {},
   "source": [
    "### median () :-"
   ]
  },
  {
   "cell_type": "code",
   "execution_count": 10,
   "id": "f0fd0393-1758-4aed-86f5-2c198db39469",
   "metadata": {},
   "outputs": [
    {
     "name": "stdout",
     "output_type": "stream",
     "text": [
      "Median of a array is : 58.5\n"
     ]
    }
   ],
   "source": [
    "# md=(a.std())\n",
    "# print(\"Median of a array is :\",md)\n",
    "            # OR\n",
    "print(\"Median of a array is :\",np.median(a))    "
   ]
  },
  {
   "cell_type": "code",
   "execution_count": null,
   "id": "c49a7959-e87f-4c80-ae5b-ac5872f43790",
   "metadata": {},
   "outputs": [],
   "source": []
  },
  {
   "cell_type": "markdown",
   "id": "efed4bc7-3c87-4b38-9887-94ccd97299dc",
   "metadata": {},
   "source": [
    "## 1. b) Demonstarte the vectorized operations."
   ]
  },
  {
   "cell_type": "code",
   "execution_count": 11,
   "id": "17d12bca-f8f4-4384-b82b-04c86ac4c9ff",
   "metadata": {},
   "outputs": [],
   "source": [
    "import numpy as np\n",
    "\n",
    "# creating arrays\n",
    "\n",
    "a1= np.array([10, 20, 30])\n",
    "b1= np.array([1, 2, 3])"
   ]
  },
  {
   "cell_type": "code",
   "execution_count": 12,
   "id": "81be1067-dc4f-478d-a1a6-7ab6b9b8e09b",
   "metadata": {},
   "outputs": [
    {
     "name": "stdout",
     "output_type": "stream",
     "text": [
      "set of a1 array is : [10 20 30]\n",
      "set of b1 array is : [1 2 3]\n"
     ]
    }
   ],
   "source": [
    "print(\"set of a1 array is :\",a1)\n",
    "print(\"set of b1 array is :\",b1)"
   ]
  },
  {
   "cell_type": "code",
   "execution_count": 13,
   "id": "d0a328cd-bed5-4f5e-858f-784c8937524f",
   "metadata": {},
   "outputs": [
    {
     "name": "stdout",
     "output_type": "stream",
     "text": [
      "Addition: [11 22 33]\n",
      "Subtraction: [ 9 18 27]\n",
      "Multiplication: [10 40 90]\n",
      "Division: [10. 10. 10.]\n"
     ]
    }
   ],
   "source": [
    "# Arithmetic Operations\n",
    " # Addition\n",
    " # Subtraction\n",
    " # Multiplication\n",
    " # Division\n",
    "\n",
    "print(\"Addition:\",a1 + b1)        \n",
    "print(\"Subtraction:\", a1 - b1)      \n",
    "print(\"Multiplication:\", a1 * b1)   \n",
    "print(\"Division:\", a1 / b1)   "
   ]
  },
  {
   "cell_type": "code",
   "execution_count": 14,
   "id": "429ab34a-77c7-4895-b592-c50543ecc3e9",
   "metadata": {},
   "outputs": [
    {
     "name": "stdout",
     "output_type": "stream",
     "text": [
      "Square root of a: [3.16227766 4.47213595 5.47722558]\n"
     ]
    }
   ],
   "source": [
    "#  Mathematical Functions\n",
    "\n",
    "print(\"Square root of a:\", np.sqrt(a1))   "
   ]
  },
  {
   "cell_type": "code",
   "execution_count": 15,
   "id": "b834eb59-8a73-465f-9720-01b1ba8e3315",
   "metadata": {},
   "outputs": [
    {
     "name": "stdout",
     "output_type": "stream",
     "text": [
      "Sum of a: 451\n",
      "Max of b: 85\n",
      "Mean of a: 56.375\n"
     ]
    }
   ],
   "source": [
    "print(\"Sum of a:\", np.sum(a))             \n",
    "print(\"Max of b:\", np.max(b))            \n",
    "print(\"Mean of a:\", np.mean(a))  "
   ]
  },
  {
   "cell_type": "code",
   "execution_count": null,
   "id": "67e0d157-b3b4-4448-942b-433f94ca24bd",
   "metadata": {},
   "outputs": [],
   "source": []
  },
  {
   "cell_type": "markdown",
   "id": "7443ee5f-1ec8-41f6-af1d-f8650ef7b642",
   "metadata": {},
   "source": [
    "## 1. c) Demonstarte the map , filter , reduce , lambda functions with data frame."
   ]
  },
  {
   "cell_type": "code",
   "execution_count": 16,
   "id": "829053b7-9b88-4593-b893-afef994b4966",
   "metadata": {},
   "outputs": [
    {
     "data": {
      "text/html": [
       "<div>\n",
       "<style scoped>\n",
       "    .dataframe tbody tr th:only-of-type {\n",
       "        vertical-align: middle;\n",
       "    }\n",
       "\n",
       "    .dataframe tbody tr th {\n",
       "        vertical-align: top;\n",
       "    }\n",
       "\n",
       "    .dataframe thead th {\n",
       "        text-align: right;\n",
       "    }\n",
       "</style>\n",
       "<table border=\"1\" class=\"dataframe\">\n",
       "  <thead>\n",
       "    <tr style=\"text-align: right;\">\n",
       "      <th></th>\n",
       "      <th>Name</th>\n",
       "      <th>Age</th>\n",
       "      <th>Salary</th>\n",
       "    </tr>\n",
       "  </thead>\n",
       "  <tbody>\n",
       "    <tr>\n",
       "      <th>0</th>\n",
       "      <td>Alice</td>\n",
       "      <td>25</td>\n",
       "      <td>50000</td>\n",
       "    </tr>\n",
       "    <tr>\n",
       "      <th>1</th>\n",
       "      <td>Bob</td>\n",
       "      <td>30</td>\n",
       "      <td>60000</td>\n",
       "    </tr>\n",
       "    <tr>\n",
       "      <th>2</th>\n",
       "      <td>Charlie</td>\n",
       "      <td>35</td>\n",
       "      <td>70000</td>\n",
       "    </tr>\n",
       "    <tr>\n",
       "      <th>3</th>\n",
       "      <td>David</td>\n",
       "      <td>40</td>\n",
       "      <td>80000</td>\n",
       "    </tr>\n",
       "  </tbody>\n",
       "</table>\n",
       "</div>"
      ],
      "text/plain": [
       "      Name  Age  Salary\n",
       "0    Alice   25   50000\n",
       "1      Bob   30   60000\n",
       "2  Charlie   35   70000\n",
       "3    David   40   80000"
      ]
     },
     "execution_count": 16,
     "metadata": {},
     "output_type": "execute_result"
    }
   ],
   "source": [
    "import pandas as pd\n",
    "from functools import reduce\n",
    "\n",
    "data = {\n",
    "    'Name': ['Alice', 'Bob', 'Charlie', 'David'],\n",
    "    'Age': [25, 30, 35, 40],\n",
    "    'Salary': [50000, 60000, 70000, 80000]\n",
    "}\n",
    "\n",
    "df = pd.DataFrame(data)\n",
    "df"
   ]
  },
  {
   "cell_type": "markdown",
   "id": "b9c51b61-fb1a-4358-8cd1-29d868147d86",
   "metadata": {},
   "source": [
    "## map () :-"
   ]
  },
  {
   "cell_type": "code",
   "execution_count": 17,
   "id": "9bbf41af-41b4-4e98-a355-ecc02c3a565e",
   "metadata": {},
   "outputs": [
    {
     "name": "stdout",
     "output_type": "stream",
     "text": [
      "Added Salaries:\n",
      " 0    52000\n",
      "1    62000\n",
      "2    72000\n",
      "3    82000\n",
      "Name: Salary, dtype: int64\n"
     ]
    }
   ],
   "source": [
    "def add(x):\n",
    "    return x + 2000\n",
    "\n",
    "Salary_List = df['Salary'].map(add)\n",
    "print(\"Added Salaries:\\n\", Salary_List)"
   ]
  },
  {
   "cell_type": "code",
   "execution_count": 18,
   "id": "6d9a04a3-b85b-4068-bee4-ca17fa365cc7",
   "metadata": {},
   "outputs": [
    {
     "name": "stdout",
     "output_type": "stream",
     "text": [
      "Add Sal \n",
      " [52500, 62500, 72500, 82500]\n"
     ]
    }
   ],
   "source": [
    "def add(x):\n",
    "    return x + 2500\n",
    "\n",
    "sl=df['Salary']\n",
    "res=print(\"Add Sal \\n\",list(map(add,sl)))\n",
    "res"
   ]
  },
  {
   "cell_type": "code",
   "execution_count": null,
   "id": "17a8a126-8b57-4cd4-8542-5d0d71af41d2",
   "metadata": {},
   "outputs": [],
   "source": []
  },
  {
   "cell_type": "markdown",
   "id": "04e41610-2173-4c36-b478-fb4d203e23de",
   "metadata": {},
   "source": [
    "## filter () :-"
   ]
  },
  {
   "cell_type": "code",
   "execution_count": 19,
   "id": "b3254756-03b6-47f5-8b19-cf8130ce54bf",
   "metadata": {},
   "outputs": [
    {
     "name": "stdout",
     "output_type": "stream",
     "text": [
      "Grater then 30 years Age : [35, 40]\n"
     ]
    }
   ],
   "source": [
    "def get(age):\n",
    "    if age > 30:\n",
    "        return True\n",
    "l1=(df['Age'])    \n",
    "res=list(filter(get,l1))\n",
    "print(\"Grater then 30 years Age :\",res)"
   ]
  },
  {
   "cell_type": "code",
   "execution_count": null,
   "id": "d08ae9fd-a6d4-436a-a83f-e8790058114e",
   "metadata": {},
   "outputs": [],
   "source": []
  },
  {
   "cell_type": "markdown",
   "id": "da550c55-0ac5-4012-8dc7-3b95d8fc5707",
   "metadata": {},
   "source": [
    "## reduce () :-"
   ]
  },
  {
   "cell_type": "code",
   "execution_count": 20,
   "id": "30b4e48f-cd1b-44e6-aae8-6946f4ccd7f2",
   "metadata": {},
   "outputs": [
    {
     "name": "stdout",
     "output_type": "stream",
     "text": [
      "Total Salary: 260000\n"
     ]
    }
   ],
   "source": [
    "def add(x, y):\n",
    "    return x + y\n",
    "\n",
    "total_salary = reduce(add, df['Salary'])\n",
    "print(\"Total Salary:\", total_salary)"
   ]
  },
  {
   "cell_type": "code",
   "execution_count": 21,
   "id": "53d01e0b-9ce6-4242-a411-049ffe3ba91f",
   "metadata": {},
   "outputs": [
    {
     "name": "stdout",
     "output_type": "stream",
     "text": [
      "Maximum Age: 40\n"
     ]
    }
   ],
   "source": [
    "def max_value(x, y):\n",
    "    return x if x > y else y\n",
    "\n",
    "max_age = reduce(max_value, df['Age'])\n",
    "print(\"Maximum Age:\", max_age)"
   ]
  },
  {
   "cell_type": "code",
   "execution_count": null,
   "id": "1dd62b42-7146-4bb8-a80a-45c0e9085bc6",
   "metadata": {},
   "outputs": [],
   "source": []
  },
  {
   "cell_type": "markdown",
   "id": "d5639b30-8b23-4c32-9672-c1b569cb841a",
   "metadata": {},
   "source": [
    "## lambda () :-"
   ]
  },
  {
   "cell_type": "code",
   "execution_count": 22,
   "id": "27bdaba7-bc33-4cc7-8d61-6316eeb6e9db",
   "metadata": {},
   "outputs": [
    {
     "name": "stdout",
     "output_type": "stream",
     "text": [
      "      Name  Age  Salary\n",
      "2  Charlie   35   70000\n",
      "3    David   40   80000\n"
     ]
    }
   ],
   "source": [
    "# Age grater then 30 years using lambda\n",
    "\n",
    "old= df[df['Age'].apply(lambda x: x > 30)]\n",
    "print(old)"
   ]
  },
  {
   "cell_type": "code",
   "execution_count": 23,
   "id": "6b9c6f7c-f45b-48b9-bb1c-2069ea05a012",
   "metadata": {},
   "outputs": [
    {
     "name": "stdout",
     "output_type": "stream",
     "text": [
      "Total Salary: 260000\n"
     ]
    }
   ],
   "source": [
    "# Sum of salary using Lambda\n",
    "\n",
    "total= reduce(lambda x, y: x + y, df['Salary'])\n",
    "print(\"Total Salary:\", total)"
   ]
  },
  {
   "cell_type": "code",
   "execution_count": null,
   "id": "698a9a18-9c53-49b0-950a-ed5236a803d4",
   "metadata": {},
   "outputs": [],
   "source": []
  },
  {
   "cell_type": "code",
   "execution_count": null,
   "id": "8ead75e4-6e12-4f87-800f-69f20030683e",
   "metadata": {},
   "outputs": [],
   "source": []
  },
  {
   "cell_type": "markdown",
   "id": "7be60470-64b9-4515-9293-41c7de27fde2",
   "metadata": {},
   "source": [
    "# 2) Using Pandas module , Perform the follwing operations."
   ]
  },
  {
   "cell_type": "markdown",
   "id": "edad976d-5071-44f8-8c17-ad27cb363526",
   "metadata": {},
   "source": [
    "## a) Demonstarte Array aggregations functions.\n",
    "## b) Demonstarte the vectorized operations.\n",
    "## c) Demonstarte the map , filter , reduce , lambda functions with data frame."
   ]
  },
  {
   "cell_type": "code",
   "execution_count": null,
   "id": "4b11f302-38a5-4a9f-a6cd-fab41db0294f",
   "metadata": {},
   "outputs": [],
   "source": []
  },
  {
   "cell_type": "markdown",
   "id": "86f94ce8-02e5-40d6-9adc-f2ce8fffb7be",
   "metadata": {},
   "source": [
    "## 2. a) Demonstarte Array aggregations functions."
   ]
  },
  {
   "cell_type": "markdown",
   "id": "7808d9ca-80f4-474c-a65f-b1b25b053baf",
   "metadata": {},
   "source": [
    "### Sum() :- Use to find the sum of the given colomns.\n",
    "### max() :- It returns the maximum values among the elements of given colomns.\n",
    "### min() :- It returns the minimum values among the elements of given colomns.\n",
    "### mean() :- It returns the Mean(Averge) of the input colomns.\n",
    "### std () :- It shows the standard deviation of colomn.\n",
    "### median () :- It returns the median value of colomns.\n"
   ]
  },
  {
   "cell_type": "code",
   "execution_count": 25,
   "id": "8197434b-bb3d-45ea-a72d-751180ec4848",
   "metadata": {},
   "outputs": [
    {
     "name": "stdout",
     "output_type": "stream",
     "text": [
      "  Department Employee  Salary  Bonus\n",
      "0         HR        A   40000   2000\n",
      "1         HR        B   42000   2500\n",
      "2         IT        C   50000   3000\n",
      "3         IT        D   52000   2800\n",
      "4    Finance        E   60000   4000\n",
      "5    Finance        F   58000   3900\n"
     ]
    }
   ],
   "source": [
    "# Import the library\n",
    "\n",
    "import pandas as pd\n",
    "\n",
    "# Creating the DataFrame\n",
    "data = {\n",
    "    \"Department\": [\"HR\", \"HR\", \"IT\", \"IT\", \"Finance\", \"Finance\"],\n",
    "    \"Employee\": [\"A\", \"B\", \"C\", \"D\", \"E\", \"F\"],\n",
    "    \"Salary\": [40000, 42000, 50000, 52000, 60000, 58000],\n",
    "    \"Bonus\": [2000, 2500, 3000, 2800, 4000, 3900]\n",
    "}\n",
    "\n",
    "df = pd.DataFrame(data)\n",
    "print(df)"
   ]
  },
  {
   "cell_type": "code",
   "execution_count": 30,
   "id": "b3fdcdf3-bc74-4d43-aa56-65c39e2cdc92",
   "metadata": {},
   "outputs": [
    {
     "name": "stdout",
     "output_type": "stream",
     "text": [
      "Total salary is : 302000\n",
      "Average salary is : 50333.333333333336\n",
      "Maximum salary is : 60000\n",
      "Minimum salary is : 40000\n",
      "Count of salaries is : 6\n",
      "Standard deviation is : 8140.434058861153\n"
     ]
    }
   ],
   "source": [
    "print(\"Total salary is :\",df[\"Salary\"].sum())      # Total salary\n",
    "print(\"Average salary is :\",df[\"Salary\"].mean())     # Average salary\n",
    "print(\"Maximum salary is :\",df[\"Salary\"].max())      # Maximum salary\n",
    "print(\"Minimum salary is :\",df[\"Salary\"].min())      # Minimum salary\n",
    "print(\"Count of salaries is :\",df[\"Salary\"].count())    # Count of salaries\n",
    "print(\"Standard deviation is :\",df[\"Salary\"].std())      # Standard deviation"
   ]
  },
  {
   "cell_type": "code",
   "execution_count": 32,
   "id": "c356ca26-ffb5-41ba-8843-8de5c011ac40",
   "metadata": {},
   "outputs": [
    {
     "data": {
      "text/plain": [
       "sum     302000.000000\n",
       "mean     50333.333333\n",
       "max      60000.000000\n",
       "min      40000.000000\n",
       "Name: Salary, dtype: float64"
      ]
     },
     "execution_count": 32,
     "metadata": {},
     "output_type": "execute_result"
    }
   ],
   "source": [
    "# calculate the salary column using agreegation functions.\n",
    "\n",
    "df[\"Salary\"].agg(['sum', 'mean', 'max', 'min'])"
   ]
  },
  {
   "cell_type": "markdown",
   "id": "e865b231-90c0-4e16-8709-8c558ea7c5ec",
   "metadata": {},
   "source": [
    "### Multiple Columns Aggregation"
   ]
  },
  {
   "cell_type": "code",
   "execution_count": 33,
   "id": "b102a637-2e4c-4357-9269-49c8fe9b5a20",
   "metadata": {},
   "outputs": [
    {
     "data": {
      "text/html": [
       "<div>\n",
       "<style scoped>\n",
       "    .dataframe tbody tr th:only-of-type {\n",
       "        vertical-align: middle;\n",
       "    }\n",
       "\n",
       "    .dataframe tbody tr th {\n",
       "        vertical-align: top;\n",
       "    }\n",
       "\n",
       "    .dataframe thead tr th {\n",
       "        text-align: left;\n",
       "    }\n",
       "\n",
       "    .dataframe thead tr:last-of-type th {\n",
       "        text-align: right;\n",
       "    }\n",
       "</style>\n",
       "<table border=\"1\" class=\"dataframe\">\n",
       "  <thead>\n",
       "    <tr>\n",
       "      <th></th>\n",
       "      <th colspan=\"2\" halign=\"left\">Salary</th>\n",
       "      <th colspan=\"2\" halign=\"left\">Bonus</th>\n",
       "    </tr>\n",
       "    <tr>\n",
       "      <th></th>\n",
       "      <th>mean</th>\n",
       "      <th>max</th>\n",
       "      <th>sum</th>\n",
       "      <th>mean</th>\n",
       "    </tr>\n",
       "    <tr>\n",
       "      <th>Department</th>\n",
       "      <th></th>\n",
       "      <th></th>\n",
       "      <th></th>\n",
       "      <th></th>\n",
       "    </tr>\n",
       "  </thead>\n",
       "  <tbody>\n",
       "    <tr>\n",
       "      <th>Finance</th>\n",
       "      <td>59000.0</td>\n",
       "      <td>60000</td>\n",
       "      <td>7900</td>\n",
       "      <td>3950.0</td>\n",
       "    </tr>\n",
       "    <tr>\n",
       "      <th>HR</th>\n",
       "      <td>41000.0</td>\n",
       "      <td>42000</td>\n",
       "      <td>4500</td>\n",
       "      <td>2250.0</td>\n",
       "    </tr>\n",
       "    <tr>\n",
       "      <th>IT</th>\n",
       "      <td>51000.0</td>\n",
       "      <td>52000</td>\n",
       "      <td>5800</td>\n",
       "      <td>2900.0</td>\n",
       "    </tr>\n",
       "  </tbody>\n",
       "</table>\n",
       "</div>"
      ],
      "text/plain": [
       "             Salary        Bonus        \n",
       "               mean    max   sum    mean\n",
       "Department                              \n",
       "Finance     59000.0  60000  7900  3950.0\n",
       "HR          41000.0  42000  4500  2250.0\n",
       "IT          51000.0  52000  5800  2900.0"
      ]
     },
     "execution_count": 33,
     "metadata": {},
     "output_type": "execute_result"
    }
   ],
   "source": [
    "df.groupby(\"Department\").agg({\n",
    "    \"Salary\": [\"mean\", \"max\"],\n",
    "    \"Bonus\": [\"sum\", \"mean\"]\n",
    "})"
   ]
  },
  {
   "cell_type": "code",
   "execution_count": null,
   "id": "893c09b1-9d31-409f-9c90-9262a90b77d5",
   "metadata": {},
   "outputs": [],
   "source": []
  },
  {
   "cell_type": "markdown",
   "id": "a6a8aa08-77d2-47fd-a1b7-c5ad05e1413d",
   "metadata": {},
   "source": [
    "## 2. b) Demonstarte the vectorized operations."
   ]
  },
  {
   "cell_type": "code",
   "execution_count": 34,
   "id": "a6ec00c9-c111-44ff-8f2e-bbd99b3d9ee9",
   "metadata": {},
   "outputs": [
    {
     "name": "stdout",
     "output_type": "stream",
     "text": [
      "   A   B\n",
      "0  1  10\n",
      "1  2  20\n",
      "2  3  30\n",
      "3  4  40\n",
      "4  5  50\n"
     ]
    }
   ],
   "source": [
    "import pandas as pd\n",
    "\n",
    "data = {\n",
    "    \"A\": [1, 2, 3, 4, 5],\n",
    "    \"B\": [10, 20, 30, 40, 50]\n",
    "}\n",
    "\n",
    "df = pd.DataFrame(data)\n",
    "print(df)"
   ]
  },
  {
   "cell_type": "markdown",
   "id": "32fd833b-3ea0-479a-9722-c9ee29da414a",
   "metadata": {},
   "source": [
    "### Arithmetic Vectorized Operations"
   ]
  },
  {
   "cell_type": "code",
   "execution_count": 35,
   "id": "7e6713d4-9322-439b-b431-1a7054f75b30",
   "metadata": {},
   "outputs": [
    {
     "data": {
      "text/plain": [
       "0    10.0\n",
       "1    10.0\n",
       "2    10.0\n",
       "3    10.0\n",
       "4    10.0\n",
       "dtype: float64"
      ]
     },
     "execution_count": 35,
     "metadata": {},
     "output_type": "execute_result"
    }
   ],
   "source": [
    "df[\"A\"] + 10        # Add scalar\n",
    "df[\"A\"] * 2         # Multiply by scalar\n",
    "df[\"A\"] + df[\"B\"]   # Add two columns\n",
    "df[\"B\"] - df[\"A\"]   # Subtract columns\n",
    "df[\"B\"] / df[\"A\"]   # Divide column B by A"
   ]
  },
  {
   "cell_type": "markdown",
   "id": "5a871fea-ce45-4733-98f3-ab72edd1bb74",
   "metadata": {},
   "source": [
    "### Universal Functions (ufuncs)"
   ]
  },
  {
   "cell_type": "code",
   "execution_count": 36,
   "id": "590569dd-2a64-43c6-9734-64b97bcf0693",
   "metadata": {},
   "outputs": [
    {
     "data": {
      "text/plain": [
       "0      2.718282\n",
       "1      7.389056\n",
       "2     20.085537\n",
       "3     54.598150\n",
       "4    148.413159\n",
       "Name: A, dtype: float64"
      ]
     },
     "execution_count": 36,
     "metadata": {},
     "output_type": "execute_result"
    }
   ],
   "source": [
    "import numpy as np\n",
    "\n",
    "np.sqrt(df[\"B\"])    # Square root\n",
    "np.log(df[\"A\"])     # Logarithm\n",
    "np.exp(df[\"A\"])     # Exponential"
   ]
  },
  {
   "cell_type": "markdown",
   "id": "04fa51be-4bcc-4a9f-b696-04acc4d80410",
   "metadata": {},
   "source": [
    "### Boolean / Comparison Operations"
   ]
  },
  {
   "cell_type": "code",
   "execution_count": 37,
   "id": "132ad72b-1afc-468f-90ff-c38ba3e4db09",
   "metadata": {},
   "outputs": [
    {
     "data": {
      "text/plain": [
       "0    False\n",
       "1     True\n",
       "2    False\n",
       "3     True\n",
       "4    False\n",
       "Name: B, dtype: bool"
      ]
     },
     "execution_count": 37,
     "metadata": {},
     "output_type": "execute_result"
    }
   ],
   "source": [
    "df[\"A\"] > 3\n",
    "df[\"B\"] % 20 == 0"
   ]
  },
  {
   "cell_type": "markdown",
   "id": "ef400c93-a991-436d-b96c-e6adbb27227b",
   "metadata": {},
   "source": [
    "### Vectorized Assignment"
   ]
  },
  {
   "cell_type": "code",
   "execution_count": 38,
   "id": "f4d0bbb6-b333-4ed5-b269-1532d2f49dc4",
   "metadata": {},
   "outputs": [],
   "source": [
    "df[\"C\"] = df[\"A\"] * df[\"B\"]   # New column = product of A and B\n",
    "df[\"D\"] = np.where(df[\"A\"] % 2 == 0, \"Even\", \"Odd\")"
   ]
  },
  {
   "cell_type": "code",
   "execution_count": 39,
   "id": "674c095d-4f7a-4bc9-971d-5c99ecedb5bb",
   "metadata": {},
   "outputs": [
    {
     "data": {
      "text/plain": [
       "0     10\n",
       "1     40\n",
       "2     90\n",
       "3    160\n",
       "4    250\n",
       "Name: C, dtype: int64"
      ]
     },
     "execution_count": 39,
     "metadata": {},
     "output_type": "execute_result"
    }
   ],
   "source": [
    "df[\"C\"]"
   ]
  },
  {
   "cell_type": "code",
   "execution_count": null,
   "id": "342206c4-4907-40f9-9a93-bb13e7562beb",
   "metadata": {},
   "outputs": [],
   "source": []
  },
  {
   "cell_type": "markdown",
   "id": "ccb0c9d4-373c-4171-beb4-e7ea4f27a5c6",
   "metadata": {},
   "source": [
    "## 2. c) Demonstarte the map , filter , reduce , lambda functions with data frame."
   ]
  },
  {
   "cell_type": "code",
   "execution_count": 40,
   "id": "d25e15c6-d77f-4d61-a3a3-33182dcdcbf0",
   "metadata": {},
   "outputs": [
    {
     "name": "stdout",
     "output_type": "stream",
     "text": [
      "      Name  Age  Salary\n",
      "0    Alice   25   50000\n",
      "1      Bob   30   60000\n",
      "2  Charlie   35   70000\n",
      "3    David   40   80000\n",
      "4      Eva   28   65000\n"
     ]
    }
   ],
   "source": [
    "import pandas as pd\n",
    "import numpy as np\n",
    "from functools import reduce  # for reduce()\n",
    "\n",
    "data = {\n",
    "    \"Name\": [\"Alice\", \"Bob\", \"Charlie\", \"David\", \"Eva\"],\n",
    "    \"Age\": [25, 30, 35, 40, 28],\n",
    "    \"Salary\": [50000, 60000, 70000, 80000, 65000]\n",
    "}\n",
    "\n",
    "df = pd.DataFrame(data)\n",
    "print(df)"
   ]
  },
  {
   "cell_type": "markdown",
   "id": "eed2f54a-f2fa-4fdd-8a20-bcf3564dae0b",
   "metadata": {},
   "source": [
    "### map() with DataFrame"
   ]
  },
  {
   "cell_type": "code",
   "execution_count": 41,
   "id": "dd507db5-3f66-4397-919d-756fd09f6f09",
   "metadata": {},
   "outputs": [
    {
     "name": "stdout",
     "output_type": "stream",
     "text": [
      "      Name  Age  Salary  Age_plus5 Name_upper\n",
      "0    Alice   25   50000         30      ALICE\n",
      "1      Bob   30   60000         35        BOB\n",
      "2  Charlie   35   70000         40    CHARLIE\n",
      "3    David   40   80000         45      DAVID\n",
      "4      Eva   28   65000         33        EVA\n"
     ]
    }
   ],
   "source": [
    "# Add 5 years to everyone's age using lambda\n",
    "df[\"Age_plus5\"] = df[\"Age\"].map(lambda x: x + 5)\n",
    "\n",
    "# Convert names to uppercase\n",
    "df[\"Name_upper\"] = df[\"Name\"].map(str.upper)\n",
    "print(df)"
   ]
  },
  {
   "cell_type": "markdown",
   "id": "9e9c1596-fb05-45f4-8d88-a6590d46bef0",
   "metadata": {},
   "source": [
    "### filter() with DataFrame"
   ]
  },
  {
   "cell_type": "code",
   "execution_count": 42,
   "id": "bcdf2cf9-2cbf-4225-b20a-870d8222cf2c",
   "metadata": {},
   "outputs": [
    {
     "name": "stdout",
     "output_type": "stream",
     "text": [
      "      Name  Age  Salary  Age_plus5 Name_upper\n",
      "2  Charlie   35   70000         40    CHARLIE\n",
      "3    David   40   80000         45      DAVID\n",
      "4      Eva   28   65000         33        EVA\n",
      "Salaries > 60000: [70000, 80000, 65000]\n"
     ]
    }
   ],
   "source": [
    "# Filter employees with salary > 60,000\n",
    "filtered_df = df[df[\"Salary\"] > 60000]\n",
    "print(filtered_df)\n",
    "\n",
    "# Using Python filter + lambda (less common with Pandas)\n",
    "high_salary = list(filter(lambda x: x > 60000, df[\"Salary\"]))\n",
    "print(\"Salaries > 60000:\", high_salary)"
   ]
  },
  {
   "cell_type": "markdown",
   "id": "e3101110-2714-452f-a407-ba01c98a13c8",
   "metadata": {},
   "source": [
    "### reduce() with DataFrame"
   ]
  },
  {
   "cell_type": "code",
   "execution_count": 43,
   "id": "f20501a2-252a-4863-8efb-68d1b965f66c",
   "metadata": {},
   "outputs": [
    {
     "name": "stdout",
     "output_type": "stream",
     "text": [
      "Total Salary: 325000\n",
      "Max Age: 40\n"
     ]
    }
   ],
   "source": [
    "# Find total salary using reduce\n",
    "total_salary = reduce(lambda x, y: x + y, df[\"Salary\"])\n",
    "print(\"Total Salary:\", total_salary)\n",
    "\n",
    "# Find the maximum age using reduce\n",
    "max_age = reduce(lambda x, y: x if x > y else y, df[\"Age\"])\n",
    "print(\"Max Age:\", max_age)"
   ]
  },
  {
   "cell_type": "markdown",
   "id": "de248957-8bfb-4cc7-b78a-ac07d330ebf2",
   "metadata": {},
   "source": [
    "### lambda Functions with DataFrame"
   ]
  },
  {
   "cell_type": "code",
   "execution_count": 44,
   "id": "1827676a-75e2-44b4-b78e-de61e12c3780",
   "metadata": {},
   "outputs": [
    {
     "name": "stdout",
     "output_type": "stream",
     "text": [
      "      Name  Age  Salary  Age_plus5 Name_upper  Bonus_Salary Age_Group\n",
      "0    Alice   25   50000         30      ALICE       55000.0     Young\n",
      "1      Bob   30   60000         35        BOB       66000.0    Senior\n",
      "2  Charlie   35   70000         40    CHARLIE       77000.0    Senior\n",
      "3    David   40   80000         45      DAVID       88000.0    Senior\n",
      "4      Eva   28   65000         33        EVA       71500.0     Young\n"
     ]
    }
   ],
   "source": [
    "# Apply lambda to create a new column: Salary after 10% bonus\n",
    "df[\"Bonus_Salary\"] = df[\"Salary\"].apply(lambda x: x * 1.10)\n",
    "\n",
    "# Categorize age group\n",
    "df[\"Age_Group\"] = df[\"Age\"].apply(lambda x: \"Young\" if x < 30 else \"Senior\")\n",
    "print(df)"
   ]
  },
  {
   "cell_type": "code",
   "execution_count": null,
   "id": "d5a6774d-4728-4de5-8a48-f6bfd0745cd7",
   "metadata": {},
   "outputs": [],
   "source": []
  }
 ],
 "metadata": {
  "kernelspec": {
   "display_name": "Python 3 (ipykernel)",
   "language": "python",
   "name": "python3"
  },
  "language_info": {
   "codemirror_mode": {
    "name": "ipython",
    "version": 3
   },
   "file_extension": ".py",
   "mimetype": "text/x-python",
   "name": "python",
   "nbconvert_exporter": "python",
   "pygments_lexer": "ipython3",
   "version": "3.13.7"
  }
 },
 "nbformat": 4,
 "nbformat_minor": 5
}
