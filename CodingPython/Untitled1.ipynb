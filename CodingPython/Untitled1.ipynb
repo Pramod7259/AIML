{
 "cells": [
  {
   "cell_type": "code",
   "execution_count": null,
   "id": "b514c3f1-e4a0-45e1-ab23-ecc35ca334c1",
   "metadata": {},
   "outputs": [],
   "source": []
  }
 ],
 "metadata": {
  "kernelspec": {
   "display_name": "",
   "name": ""
  },
  "language_info": {
   "name": ""
  }
 },
 "nbformat": 4,
 "nbformat_minor": 5
}
